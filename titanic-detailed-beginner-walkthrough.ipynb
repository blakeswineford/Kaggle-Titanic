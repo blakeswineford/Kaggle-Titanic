{
 "cells": [
  {
   "cell_type": "markdown",
   "id": "008c507a",
   "metadata": {
    "_cell_guid": "b1076dfc-b9ad-4769-8c92-a6c4dae69d19",
    "_uuid": "8f2839f25d086af736a60e9eeb907d3b93b6e0e5",
    "papermill": {
     "duration": 0.016138,
     "end_time": "2022-07-11T03:25:32.705004",
     "exception": false,
     "start_time": "2022-07-11T03:25:32.688866",
     "status": "completed"
    },
    "tags": []
   },
   "source": [
    "<center><img src=\"https://d.newsweek.com/en/full/1859515/screengrab-titanic-movie.jpg\" width=500></center>\n",
    "\n",
    "<h1><center>🛥️ Titanic - Machine Learning from Disaster 🛥️</center></h1>"
   ]
  },
  {
   "cell_type": "markdown",
   "id": "283943ca",
   "metadata": {
    "papermill": {
     "duration": 0.014101,
     "end_time": "2022-07-11T03:25:32.733845",
     "exception": false,
     "start_time": "2022-07-11T03:25:32.719744",
     "status": "completed"
    },
    "tags": []
   },
   "source": [
    "# 1. Introduction\n",
    "\n",
    "The sinking of the Titanic is one of the most infamous shipwrecks in history. 🧊🛥️\n",
    "\n",
    "On April 15, 1912, during her maiden voyage, the widely considered “unsinkable” RMS Titanic sank after colliding with an iceberg. Unfortunately, there weren’t enough lifeboats for everyone onboard, resulting in the death of 1502 out of 2224 passengers and crew.\n",
    "\n",
    "While there was some element of luck involved in surviving, certain groups of people were more likely to survive than others, and while some passenger's hearts would go on... not everyone's did, sorry jack!  💔\n",
    "\n",
    "### Libraries 📚⬇"
   ]
  },
  {
   "cell_type": "code",
   "execution_count": 1,
   "id": "a0653437",
   "metadata": {
    "execution": {
     "iopub.execute_input": "2022-07-11T03:25:32.766269Z",
     "iopub.status.busy": "2022-07-11T03:25:32.765858Z",
     "iopub.status.idle": "2022-07-11T03:25:34.555492Z",
     "shell.execute_reply": "2022-07-11T03:25:34.554304Z"
    },
    "papermill": {
     "duration": 1.809873,
     "end_time": "2022-07-11T03:25:34.558234",
     "exception": false,
     "start_time": "2022-07-11T03:25:32.748361",
     "status": "completed"
    },
    "tags": []
   },
   "outputs": [],
   "source": [
    "# Data Manipulation\n",
    "import numpy as np\n",
    "import pandas as pd\n",
    "\n",
    "# Visualization\n",
    "%matplotlib inline\n",
    "import matplotlib.pyplot as plt\n",
    "import missingno\n",
    "import seaborn as sns\n",
    "plt.style.use('fivethirtyeight')\n",
    "\n",
    "# Preprocessing\n",
    "from sklearn.preprocessing import OneHotEncoder, LabelEncoder, label_binarize\n",
    "\n",
    "# Machine learning\n",
    "import xgboost as xgb\n",
    "from sklearn.preprocessing import StandardScaler\n",
    "from sklearn.model_selection import train_test_split\n",
    "from sklearn import model_selection, tree, preprocessing, metrics, linear_model\n",
    "from sklearn.svm import LinearSVC\n",
    "from sklearn.neighbors import KNeighborsClassifier\n",
    "from sklearn.naive_bayes import GaussianNB\n",
    "from sklearn.linear_model import LinearRegression, LogisticRegression, SGDClassifier\n",
    "from sklearn.tree import DecisionTreeClassifier\n",
    "from catboost import CatBoostClassifier, Pool, cv\n",
    "from sklearn.ensemble import RandomForestClassifier, AdaBoostClassifier, GradientBoostingClassifier, ExtraTreesClassifier\n",
    "\n",
    "# Ignore warnings\n",
    "import warnings\n",
    "warnings.filterwarnings('ignore')"
   ]
  },
  {
   "cell_type": "markdown",
   "id": "a783c329",
   "metadata": {
    "papermill": {
     "duration": 0.014333,
     "end_time": "2022-07-11T03:25:34.588108",
     "exception": false,
     "start_time": "2022-07-11T03:25:34.573775",
     "status": "completed"
    },
    "tags": []
   },
   "source": [
    "# 2. The .csv files 📁\n",
    "\n",
    "> 📌**Note**:\n",
    "* `train.csv` contains the outcome for each passenger. It contains datapoints in  unique columns.\n",
    "* `test.csv` does not contain the outcome for each passenger. This will be used to see how well our model performs on unseen data.\n",
    "* `gender_submission.csv` servers as an example of what the submission file should look like. \n",
    "\n",
    "<div class=\"alert alert-block alert-info\">\n",
    "<b>Note:</b> I had previously run Pandas Profiling <code>df.profile_report()</code> to create a basic report on the input <code>train.csv</code> DataFrame. This is similar to using <code>df.describe()</code> but provides some more information fairly quickly. By running this I was able to see that. The Age column has <b>177 (19.9%)</b> missing values and Cabin has <b>687 (77.1%)</b> missing values. For this notebook I've left Pandas Profiling out, but provided a link below for anyone who wants to learn more. \n",
    "</div>\n",
    " \n",
    "### Links 🔗\n",
    "* [Pandas Profiling](https://pandas-profiling.ydata.ai/docs/master/index.html)"
   ]
  },
  {
   "cell_type": "code",
   "execution_count": 2,
   "id": "2766dff2",
   "metadata": {
    "execution": {
     "iopub.execute_input": "2022-07-11T03:25:34.619393Z",
     "iopub.status.busy": "2022-07-11T03:25:34.619021Z",
     "iopub.status.idle": "2022-07-11T03:25:34.650195Z",
     "shell.execute_reply": "2022-07-11T03:25:34.649422Z"
    },
    "papermill": {
     "duration": 0.049826,
     "end_time": "2022-07-11T03:25:34.652658",
     "exception": false,
     "start_time": "2022-07-11T03:25:34.602832",
     "status": "completed"
    },
    "tags": []
   },
   "outputs": [],
   "source": [
    "# Import train and test data\n",
    "train = pd.read_csv(\"../input/titanic/train.csv\")\n",
    "test = pd.read_csv(\"../input/titanic/test.csv\")\n",
    "gender_submission = pd.read_csv(\"../input/titanic/gender_submission.csv\")"
   ]
  },
  {
   "cell_type": "markdown",
   "id": "7d631cfa",
   "metadata": {
    "papermill": {
     "duration": 0.014671,
     "end_time": "2022-07-11T03:25:34.681902",
     "exception": false,
     "start_time": "2022-07-11T03:25:34.667231",
     "status": "completed"
    },
    "tags": []
   },
   "source": [
    "### train.csv - let's take a look at the DataFrames first, then types\n",
    "> 📌**Note**:\n",
    "* `df.head()`: Check to make sure the data looks correct in both train & test\n",
    "* `df.dtypes`: Check to see the data types in both train & test\n",
    "* `gender_submission.head()`: Check to see what the submission data should look like\n",
    "*  Make note that columns Sex, Cabin & Embarked may need to be converted from a `string` to an `int`"
   ]
  },
  {
   "cell_type": "code",
   "execution_count": 3,
   "id": "9c53d135",
   "metadata": {
    "execution": {
     "iopub.execute_input": "2022-07-11T03:25:34.713145Z",
     "iopub.status.busy": "2022-07-11T03:25:34.712386Z",
     "iopub.status.idle": "2022-07-11T03:25:34.739515Z",
     "shell.execute_reply": "2022-07-11T03:25:34.738109Z"
    },
    "papermill": {
     "duration": 0.046219,
     "end_time": "2022-07-11T03:25:34.742686",
     "exception": false,
     "start_time": "2022-07-11T03:25:34.696467",
     "status": "completed"
    },
    "tags": []
   },
   "outputs": [
    {
     "name": "stdout",
     "output_type": "stream",
     "text": [
      "Train shape: (891, 12)\n",
      "Test shape: (418, 11)\n"
     ]
    },
    {
     "data": {
      "text/html": [
       "<div>\n",
       "<style scoped>\n",
       "    .dataframe tbody tr th:only-of-type {\n",
       "        vertical-align: middle;\n",
       "    }\n",
       "\n",
       "    .dataframe tbody tr th {\n",
       "        vertical-align: top;\n",
       "    }\n",
       "\n",
       "    .dataframe thead th {\n",
       "        text-align: right;\n",
       "    }\n",
       "</style>\n",
       "<table border=\"1\" class=\"dataframe\">\n",
       "  <thead>\n",
       "    <tr style=\"text-align: right;\">\n",
       "      <th></th>\n",
       "      <th>PassengerId</th>\n",
       "      <th>Survived</th>\n",
       "      <th>Pclass</th>\n",
       "      <th>Name</th>\n",
       "      <th>Sex</th>\n",
       "      <th>Age</th>\n",
       "      <th>SibSp</th>\n",
       "      <th>Parch</th>\n",
       "      <th>Ticket</th>\n",
       "      <th>Fare</th>\n",
       "      <th>Cabin</th>\n",
       "      <th>Embarked</th>\n",
       "    </tr>\n",
       "  </thead>\n",
       "  <tbody>\n",
       "    <tr>\n",
       "      <th>0</th>\n",
       "      <td>1</td>\n",
       "      <td>0</td>\n",
       "      <td>3</td>\n",
       "      <td>Braund, Mr. Owen Harris</td>\n",
       "      <td>male</td>\n",
       "      <td>22.0</td>\n",
       "      <td>1</td>\n",
       "      <td>0</td>\n",
       "      <td>A/5 21171</td>\n",
       "      <td>7.2500</td>\n",
       "      <td>NaN</td>\n",
       "      <td>S</td>\n",
       "    </tr>\n",
       "    <tr>\n",
       "      <th>1</th>\n",
       "      <td>2</td>\n",
       "      <td>1</td>\n",
       "      <td>1</td>\n",
       "      <td>Cumings, Mrs. John Bradley (Florence Briggs Th...</td>\n",
       "      <td>female</td>\n",
       "      <td>38.0</td>\n",
       "      <td>1</td>\n",
       "      <td>0</td>\n",
       "      <td>PC 17599</td>\n",
       "      <td>71.2833</td>\n",
       "      <td>C85</td>\n",
       "      <td>C</td>\n",
       "    </tr>\n",
       "    <tr>\n",
       "      <th>2</th>\n",
       "      <td>3</td>\n",
       "      <td>1</td>\n",
       "      <td>3</td>\n",
       "      <td>Heikkinen, Miss. Laina</td>\n",
       "      <td>female</td>\n",
       "      <td>26.0</td>\n",
       "      <td>0</td>\n",
       "      <td>0</td>\n",
       "      <td>STON/O2. 3101282</td>\n",
       "      <td>7.9250</td>\n",
       "      <td>NaN</td>\n",
       "      <td>S</td>\n",
       "    </tr>\n",
       "    <tr>\n",
       "      <th>3</th>\n",
       "      <td>4</td>\n",
       "      <td>1</td>\n",
       "      <td>1</td>\n",
       "      <td>Futrelle, Mrs. Jacques Heath (Lily May Peel)</td>\n",
       "      <td>female</td>\n",
       "      <td>35.0</td>\n",
       "      <td>1</td>\n",
       "      <td>0</td>\n",
       "      <td>113803</td>\n",
       "      <td>53.1000</td>\n",
       "      <td>C123</td>\n",
       "      <td>S</td>\n",
       "    </tr>\n",
       "    <tr>\n",
       "      <th>4</th>\n",
       "      <td>5</td>\n",
       "      <td>0</td>\n",
       "      <td>3</td>\n",
       "      <td>Allen, Mr. William Henry</td>\n",
       "      <td>male</td>\n",
       "      <td>35.0</td>\n",
       "      <td>0</td>\n",
       "      <td>0</td>\n",
       "      <td>373450</td>\n",
       "      <td>8.0500</td>\n",
       "      <td>NaN</td>\n",
       "      <td>S</td>\n",
       "    </tr>\n",
       "  </tbody>\n",
       "</table>\n",
       "</div>"
      ],
      "text/plain": [
       "   PassengerId  Survived  Pclass  \\\n",
       "0            1         0       3   \n",
       "1            2         1       1   \n",
       "2            3         1       3   \n",
       "3            4         1       1   \n",
       "4            5         0       3   \n",
       "\n",
       "                                                Name     Sex   Age  SibSp  \\\n",
       "0                            Braund, Mr. Owen Harris    male  22.0      1   \n",
       "1  Cumings, Mrs. John Bradley (Florence Briggs Th...  female  38.0      1   \n",
       "2                             Heikkinen, Miss. Laina  female  26.0      0   \n",
       "3       Futrelle, Mrs. Jacques Heath (Lily May Peel)  female  35.0      1   \n",
       "4                           Allen, Mr. William Henry    male  35.0      0   \n",
       "\n",
       "   Parch            Ticket     Fare Cabin Embarked  \n",
       "0      0         A/5 21171   7.2500   NaN        S  \n",
       "1      0          PC 17599  71.2833   C85        C  \n",
       "2      0  STON/O2. 3101282   7.9250   NaN        S  \n",
       "3      0            113803  53.1000  C123        S  \n",
       "4      0            373450   8.0500   NaN        S  "
      ]
     },
     "execution_count": 3,
     "metadata": {},
     "output_type": "execute_result"
    }
   ],
   "source": [
    "# Explore the format\n",
    "print(\"Train shape: {}\".format(train.shape))\n",
    "print(\"Test shape: {}\".format(test.shape))\n",
    "\n",
    "# Explore the head of the dataframe\n",
    "train.head()"
   ]
  },
  {
   "cell_type": "markdown",
   "id": "26fafb48",
   "metadata": {
    "papermill": {
     "duration": 0.014348,
     "end_time": "2022-07-11T03:25:34.771737",
     "exception": false,
     "start_time": "2022-07-11T03:25:34.757389",
     "status": "completed"
    },
    "tags": []
   },
   "source": [
    "# 3. Data Preprocessing 🧼\n",
    "\n",
    "There are many techniques that can be performed during this phase. Some of them are:\n",
    "\n",
    "* checking for missing data\n",
    "* analysis of the distributions and patterns in the data\n",
    "* creating new features from the existing data (feature engineering)\n",
    "* encoding the categorical features\n",
    "* etc.\n",
    "\n",
    "### Other helpful exploratory data analysis\n",
    "* `train.columns`: Check the name of the columns\n",
    "* `train.shape`: Check the shape of the columns\n",
    "* `train.isnull().sum()`: Check to see which columns have missing data\n"
   ]
  },
  {
   "cell_type": "code",
   "execution_count": 4,
   "id": "49d299e2",
   "metadata": {
    "execution": {
     "iopub.execute_input": "2022-07-11T03:25:34.803462Z",
     "iopub.status.busy": "2022-07-11T03:25:34.802656Z",
     "iopub.status.idle": "2022-07-11T03:25:35.301772Z",
     "shell.execute_reply": "2022-07-11T03:25:35.300432Z"
    },
    "papermill": {
     "duration": 0.518467,
     "end_time": "2022-07-11T03:25:35.304949",
     "exception": false,
     "start_time": "2022-07-11T03:25:34.786482",
     "status": "completed"
    },
    "tags": []
   },
   "outputs": [
    {
     "data": {
      "image/png": "[encoded data removed]",
      "text/plain": [
       "<Figure size 2160x720 with 2 Axes>"
      ]
     },
     "metadata": {},
     "output_type": "display_data"
    }
   ],
   "source": [
    "# Check for missing values\n",
    "train.isnull().sum()\n",
    "# Plot graphic of missing values\n",
    "missingno.matrix(train, figsize = (30,10));"
   ]
  },
  {
   "cell_type": "code",
   "execution_count": 5,
   "id": "d6495417",
   "metadata": {
    "execution": {
     "iopub.execute_input": "2022-07-11T03:25:35.340160Z",
     "iopub.status.busy": "2022-07-11T03:25:35.339540Z",
     "iopub.status.idle": "2022-07-11T03:25:35.592840Z",
     "shell.execute_reply": "2022-07-11T03:25:35.591643Z"
    },
    "papermill": {
     "duration": 0.273298,
     "end_time": "2022-07-11T03:25:35.595349",
     "exception": false,
     "start_time": "2022-07-11T03:25:35.322051",
     "status": "completed"
    },
    "tags": []
   },
   "outputs": [
    {
     "data": {
      "image/png": "[encoded data removed]",
      "text/plain": [
       "<Figure size 720x432 with 1 Axes>"
      ]
     },
     "metadata": {},
     "output_type": "display_data"
    }
   ],
   "source": [
    "# Histogram of passenger ages.\n",
    "plt.figure(figsize=(10,6))\n",
    "sns.histplot(train['Age'].dropna(),bins=30, palette='inferno', color='#7D0A45', alpha=0.5, kde=True);"
   ]
  },
  {
   "cell_type": "code",
   "execution_count": 6,
   "id": "a397a4dc",
   "metadata": {
    "execution": {
     "iopub.execute_input": "2022-07-11T03:25:35.630785Z",
     "iopub.status.busy": "2022-07-11T03:25:35.630193Z",
     "iopub.status.idle": "2022-07-11T03:25:35.762342Z",
     "shell.execute_reply": "2022-07-11T03:25:35.761274Z"
    },
    "papermill": {
     "duration": 0.153603,
     "end_time": "2022-07-11T03:25:35.765754",
     "exception": false,
     "start_time": "2022-07-11T03:25:35.612151",
     "status": "completed"
    },
    "tags": []
   },
   "outputs": [
    {
     "data": {
      "image/png": "[encoded data removed]",
      "text/plain": [
       "<Figure size 720x432 with 1 Axes>"
      ]
     },
     "metadata": {},
     "output_type": "display_data"
    }
   ],
   "source": [
    "# Visualize the survival states\n",
    "plt.figure(figsize=(10,6))\n",
    "train['Survived'].value_counts().plot.pie(explode=[0, 0.1], autopct='%1.1f%%', shadow=True, colors=['#7D0A45', '#B11463']);"
   ]
  },
  {
   "cell_type": "markdown",
   "id": "0ab1884f",
   "metadata": {
    "papermill": {
     "duration": 0.03105,
     "end_time": "2022-07-11T03:25:35.828800",
     "exception": false,
     "start_time": "2022-07-11T03:25:35.797750",
     "status": "completed"
    },
    "tags": []
   },
   "source": [
    "#### Imputation?\n",
    "\n",
    "We know that Age and Cabin columns have some missing data, how should we think about resolving that issue? The two most common methods would be to remove the data -- or use imputation. \n",
    "\n",
    "> Imputation is a technique that replaces missing values in the data with another value (like the mean, median, mode, or other more complex operations). Be weary of the bias!\n",
    "\n",
    "For Age, we'll use imputation"
   ]
  },
  {
   "cell_type": "code",
   "execution_count": 7,
   "id": "603a73fe",
   "metadata": {
    "execution": {
     "iopub.execute_input": "2022-07-11T03:25:35.878974Z",
     "iopub.status.busy": "2022-07-11T03:25:35.878278Z",
     "iopub.status.idle": "2022-07-11T03:25:36.320870Z",
     "shell.execute_reply": "2022-07-11T03:25:36.319936Z"
    },
    "papermill": {
     "duration": 0.463387,
     "end_time": "2022-07-11T03:25:36.323199",
     "exception": false,
     "start_time": "2022-07-11T03:25:35.859812",
     "status": "completed"
    },
    "tags": []
   },
   "outputs": [
    {
     "data": {
      "image/png": "[encoded data removed]",
      "text/plain": [
       "<Figure size 720x432 with 1 Axes>"
      ]
     },
     "metadata": {},
     "output_type": "display_data"
    }
   ],
   "source": [
    "# Age had a lot of missing values, so we will need to fill in that data. \n",
    "train[\"Age\"] = train[\"Age\"].fillna(-0.5)\n",
    "test[\"Age\"] = test[\"Age\"].fillna(-0.5)\n",
    "\n",
    "# We can also sort ages into categories\n",
    "bins = [0, 5, 12, 18, 24, 35, 60, np.inf]\n",
    "labels = ['Baby', 'Child', 'Teenager', 'Student', 'Young Adult', 'Adult', 'Senior']\n",
    "train['AgeGroup'] = pd.cut(train[\"Age\"], bins, labels = labels)\n",
    "test['AgeGroup'] = pd.cut(test[\"Age\"], bins, labels = labels)\n",
    "\n",
    "# Draw a bar plot of age vs. survival\n",
    "plt.figure(figsize=(10,6))\n",
    "sns.barplot(x=\"AgeGroup\", y=\"Survived\", data=train)\n",
    "plt.show();"
   ]
  },
  {
   "cell_type": "code",
   "execution_count": 8,
   "id": "94abe2e6",
   "metadata": {
    "execution": {
     "iopub.execute_input": "2022-07-11T03:25:36.360739Z",
     "iopub.status.busy": "2022-07-11T03:25:36.360061Z",
     "iopub.status.idle": "2022-07-11T03:25:36.366590Z",
     "shell.execute_reply": "2022-07-11T03:25:36.365802Z"
    },
    "papermill": {
     "duration": 0.027735,
     "end_time": "2022-07-11T03:25:36.368877",
     "exception": false,
     "start_time": "2022-07-11T03:25:36.341142",
     "status": "completed"
    },
    "tags": []
   },
   "outputs": [],
   "source": [
    "# We can drop the AgeGroup column now as we were using it to view the data above\n",
    "train = train.drop(['AgeGroup'], axis = 1)\n",
    "test = test.drop(['AgeGroup'], axis = 1)"
   ]
  },
  {
   "cell_type": "code",
   "execution_count": 9,
   "id": "0e413d09",
   "metadata": {
    "execution": {
     "iopub.execute_input": "2022-07-11T03:25:36.407110Z",
     "iopub.status.busy": "2022-07-11T03:25:36.406366Z",
     "iopub.status.idle": "2022-07-11T03:25:36.578639Z",
     "shell.execute_reply": "2022-07-11T03:25:36.577696Z"
    },
    "papermill": {
     "duration": 0.194522,
     "end_time": "2022-07-11T03:25:36.580981",
     "exception": false,
     "start_time": "2022-07-11T03:25:36.386459",
     "status": "completed"
    },
    "tags": []
   },
   "outputs": [
    {
     "data": {
      "image/png": "[encoded data removed]",
      "text/plain": [
       "<Figure size 432x288 with 1 Axes>"
      ]
     },
     "metadata": {},
     "output_type": "display_data"
    }
   ],
   "source": [
    "# We can see if there is a coorelation between fare price and survival rate\n",
    "fare_not_survived = train['Fare'][train['Survived'] == 0]\n",
    "fare_survived = train['Fare'][train['Survived'] == 1]\n",
    "\n",
    "average_fare = pd.DataFrame([fare_not_survived.mean(), fare_survived.mean()])\n",
    "std_fare = pd.DataFrame([fare_not_survived.std(), fare_survived.std()])\n",
    "average_fare.plot(yerr=std_fare, kind='bar', legend=False)\n",
    "\n",
    "plt.show();"
   ]
  },
  {
   "cell_type": "code",
   "execution_count": 10,
   "id": "0416eb77",
   "metadata": {
    "execution": {
     "iopub.execute_input": "2022-07-11T03:25:36.619512Z",
     "iopub.status.busy": "2022-07-11T03:25:36.618929Z",
     "iopub.status.idle": "2022-07-11T03:25:36.895540Z",
     "shell.execute_reply": "2022-07-11T03:25:36.894719Z"
    },
    "papermill": {
     "duration": 0.298363,
     "end_time": "2022-07-11T03:25:36.897802",
     "exception": false,
     "start_time": "2022-07-11T03:25:36.599439",
     "status": "completed"
    },
    "tags": []
   },
   "outputs": [
    {
     "data": {
      "image/png": "[encoded data removed]",
      "text/plain": [
       "<Figure size 432x288 with 1 Axes>"
      ]
     },
     "metadata": {},
     "output_type": "display_data"
    }
   ],
   "source": [
    "# We can also view if where passengers embarked from played a role in their survival\n",
    "sns.barplot(x=\"Embarked\", y=\"Survived\", data=train)\n",
    "plt.title('Embarked and Survived rate');\n",
    "plt.show();"
   ]
  },
  {
   "cell_type": "markdown",
   "id": "394009d5",
   "metadata": {
    "execution": {
     "iopub.execute_input": "2022-07-11T02:44:49.093311Z",
     "iopub.status.busy": "2022-07-11T02:44:49.092884Z",
     "iopub.status.idle": "2022-07-11T02:44:49.100749Z",
     "shell.execute_reply": "2022-07-11T02:44:49.099681Z",
     "shell.execute_reply.started": "2022-07-11T02:44:49.093276Z"
    },
    "papermill": {
     "duration": 0.018378,
     "end_time": "2022-07-11T03:25:36.935447",
     "exception": false,
     "start_time": "2022-07-11T03:25:36.917069",
     "status": "completed"
    },
    "tags": []
   },
   "source": [
    "#### Fare & Embarked\n",
    "\n",
    "From the above data we can see some interesting points. \n",
    "\n",
    "* Passengers with a higher fare tended to have a better chance of survival\n",
    "* Passengers who embarked from Cherbourg had the highest chance of survival, and those from Southampton the least chance to survive. This is likley due to some socialeconomic differences and which part of the ship these passengers stayed in."
   ]
  },
  {
   "cell_type": "code",
   "execution_count": 11,
   "id": "5d6e3c36",
   "metadata": {
    "execution": {
     "iopub.execute_input": "2022-07-11T03:25:36.975079Z",
     "iopub.status.busy": "2022-07-11T03:25:36.974364Z",
     "iopub.status.idle": "2022-07-11T03:25:37.004918Z",
     "shell.execute_reply": "2022-07-11T03:25:37.004054Z"
    },
    "papermill": {
     "duration": 0.052939,
     "end_time": "2022-07-11T03:25:37.007317",
     "exception": false,
     "start_time": "2022-07-11T03:25:36.954378",
     "status": "completed"
    },
    "tags": []
   },
   "outputs": [
    {
     "data": {
      "text/html": [
       "<div>\n",
       "<style scoped>\n",
       "    .dataframe tbody tr th:only-of-type {\n",
       "        vertical-align: middle;\n",
       "    }\n",
       "\n",
       "    .dataframe tbody tr th {\n",
       "        vertical-align: top;\n",
       "    }\n",
       "\n",
       "    .dataframe thead th {\n",
       "        text-align: right;\n",
       "    }\n",
       "</style>\n",
       "<table border=\"1\" class=\"dataframe\">\n",
       "  <thead>\n",
       "    <tr style=\"text-align: right;\">\n",
       "      <th>Sex</th>\n",
       "      <th>female</th>\n",
       "      <th>male</th>\n",
       "    </tr>\n",
       "    <tr>\n",
       "      <th>Title</th>\n",
       "      <th></th>\n",
       "      <th></th>\n",
       "    </tr>\n",
       "  </thead>\n",
       "  <tbody>\n",
       "    <tr>\n",
       "      <th>Capt</th>\n",
       "      <td>0</td>\n",
       "      <td>1</td>\n",
       "    </tr>\n",
       "    <tr>\n",
       "      <th>Col</th>\n",
       "      <td>0</td>\n",
       "      <td>2</td>\n",
       "    </tr>\n",
       "    <tr>\n",
       "      <th>Countess</th>\n",
       "      <td>1</td>\n",
       "      <td>0</td>\n",
       "    </tr>\n",
       "    <tr>\n",
       "      <th>Don</th>\n",
       "      <td>0</td>\n",
       "      <td>1</td>\n",
       "    </tr>\n",
       "    <tr>\n",
       "      <th>Dr</th>\n",
       "      <td>1</td>\n",
       "      <td>6</td>\n",
       "    </tr>\n",
       "    <tr>\n",
       "      <th>Jonkheer</th>\n",
       "      <td>0</td>\n",
       "      <td>1</td>\n",
       "    </tr>\n",
       "    <tr>\n",
       "      <th>Lady</th>\n",
       "      <td>1</td>\n",
       "      <td>0</td>\n",
       "    </tr>\n",
       "    <tr>\n",
       "      <th>Major</th>\n",
       "      <td>0</td>\n",
       "      <td>2</td>\n",
       "    </tr>\n",
       "    <tr>\n",
       "      <th>Master</th>\n",
       "      <td>0</td>\n",
       "      <td>40</td>\n",
       "    </tr>\n",
       "    <tr>\n",
       "      <th>Miss</th>\n",
       "      <td>182</td>\n",
       "      <td>0</td>\n",
       "    </tr>\n",
       "    <tr>\n",
       "      <th>Mlle</th>\n",
       "      <td>2</td>\n",
       "      <td>0</td>\n",
       "    </tr>\n",
       "    <tr>\n",
       "      <th>Mme</th>\n",
       "      <td>1</td>\n",
       "      <td>0</td>\n",
       "    </tr>\n",
       "    <tr>\n",
       "      <th>Mr</th>\n",
       "      <td>0</td>\n",
       "      <td>517</td>\n",
       "    </tr>\n",
       "    <tr>\n",
       "      <th>Mrs</th>\n",
       "      <td>125</td>\n",
       "      <td>0</td>\n",
       "    </tr>\n",
       "    <tr>\n",
       "      <th>Ms</th>\n",
       "      <td>1</td>\n",
       "      <td>0</td>\n",
       "    </tr>\n",
       "    <tr>\n",
       "      <th>Rev</th>\n",
       "      <td>0</td>\n",
       "      <td>6</td>\n",
       "    </tr>\n",
       "    <tr>\n",
       "      <th>Sir</th>\n",
       "      <td>0</td>\n",
       "      <td>1</td>\n",
       "    </tr>\n",
       "  </tbody>\n",
       "</table>\n",
       "</div>"
      ],
      "text/plain": [
       "Sex       female  male\n",
       "Title                 \n",
       "Capt           0     1\n",
       "Col            0     2\n",
       "Countess       1     0\n",
       "Don            0     1\n",
       "Dr             1     6\n",
       "Jonkheer       0     1\n",
       "Lady           1     0\n",
       "Major          0     2\n",
       "Master         0    40\n",
       "Miss         182     0\n",
       "Mlle           2     0\n",
       "Mme            1     0\n",
       "Mr             0   517\n",
       "Mrs          125     0\n",
       "Ms             1     0\n",
       "Rev            0     6\n",
       "Sir            0     1"
      ]
     },
     "execution_count": 11,
     "metadata": {},
     "output_type": "execute_result"
    }
   ],
   "source": [
    "# Create a combined group of our Train and Test data\n",
    "combine = [train, test]\n",
    "\n",
    "# Extract a title for each Name in the train and test datasets\n",
    "for dataset in combine:\n",
    "    dataset['Title'] = dataset.Name.str.extract(' ([A-Za-z]+)\\.', expand=False)\n",
    "\n",
    "pd.crosstab(train['Title'], train['Sex'])"
   ]
  },
  {
   "cell_type": "code",
   "execution_count": 12,
   "id": "1c7d3ff1",
   "metadata": {
    "execution": {
     "iopub.execute_input": "2022-07-11T03:25:37.047426Z",
     "iopub.status.busy": "2022-07-11T03:25:37.046724Z",
     "iopub.status.idle": "2022-07-11T03:25:37.073365Z",
     "shell.execute_reply": "2022-07-11T03:25:37.072576Z"
    },
    "papermill": {
     "duration": 0.049238,
     "end_time": "2022-07-11T03:25:37.075363",
     "exception": false,
     "start_time": "2022-07-11T03:25:37.026125",
     "status": "completed"
    },
    "tags": []
   },
   "outputs": [
    {
     "data": {
      "text/html": [
       "<div>\n",
       "<style scoped>\n",
       "    .dataframe tbody tr th:only-of-type {\n",
       "        vertical-align: middle;\n",
       "    }\n",
       "\n",
       "    .dataframe tbody tr th {\n",
       "        vertical-align: top;\n",
       "    }\n",
       "\n",
       "    .dataframe thead th {\n",
       "        text-align: right;\n",
       "    }\n",
       "</style>\n",
       "<table border=\"1\" class=\"dataframe\">\n",
       "  <thead>\n",
       "    <tr style=\"text-align: right;\">\n",
       "      <th></th>\n",
       "      <th>Title</th>\n",
       "      <th>Survived</th>\n",
       "    </tr>\n",
       "  </thead>\n",
       "  <tbody>\n",
       "    <tr>\n",
       "      <th>0</th>\n",
       "      <td>Master</td>\n",
       "      <td>0.575000</td>\n",
       "    </tr>\n",
       "    <tr>\n",
       "      <th>1</th>\n",
       "      <td>Miss</td>\n",
       "      <td>0.702703</td>\n",
       "    </tr>\n",
       "    <tr>\n",
       "      <th>2</th>\n",
       "      <td>Mr</td>\n",
       "      <td>0.156673</td>\n",
       "    </tr>\n",
       "    <tr>\n",
       "      <th>3</th>\n",
       "      <td>Mrs</td>\n",
       "      <td>0.793651</td>\n",
       "    </tr>\n",
       "    <tr>\n",
       "      <th>4</th>\n",
       "      <td>Rare</td>\n",
       "      <td>0.285714</td>\n",
       "    </tr>\n",
       "    <tr>\n",
       "      <th>5</th>\n",
       "      <td>Royal</td>\n",
       "      <td>1.000000</td>\n",
       "    </tr>\n",
       "  </tbody>\n",
       "</table>\n",
       "</div>"
      ],
      "text/plain": [
       "    Title  Survived\n",
       "0  Master  0.575000\n",
       "1    Miss  0.702703\n",
       "2      Mr  0.156673\n",
       "3     Mrs  0.793651\n",
       "4    Rare  0.285714\n",
       "5   Royal  1.000000"
      ]
     },
     "execution_count": 12,
     "metadata": {},
     "output_type": "execute_result"
    }
   ],
   "source": [
    "# Replace various titles with more common names\n",
    "for dataset in combine:\n",
    "    dataset['Title'] = dataset['Title'].replace(['Lady', 'Capt', 'Col',\n",
    "    'Don', 'Dr', 'Major', 'Rev', 'Jonkheer', 'Dona'], 'Rare')\n",
    "    \n",
    "    dataset['Title'] = dataset['Title'].replace(['Countess', 'Lady', 'Sir'], 'Royal')\n",
    "    dataset['Title'] = dataset['Title'].replace('Mlle', 'Miss')\n",
    "    dataset['Title'] = dataset['Title'].replace('Ms', 'Miss')\n",
    "    dataset['Title'] = dataset['Title'].replace('Mme', 'Mrs')\n",
    "\n",
    "train[['Title', 'Survived']].groupby(['Title'], as_index=False).mean()"
   ]
  },
  {
   "cell_type": "code",
   "execution_count": 13,
   "id": "b07a4299",
   "metadata": {
    "execution": {
     "iopub.execute_input": "2022-07-11T03:25:37.116255Z",
     "iopub.status.busy": "2022-07-11T03:25:37.115533Z",
     "iopub.status.idle": "2022-07-11T03:25:37.123761Z",
     "shell.execute_reply": "2022-07-11T03:25:37.122964Z"
    },
    "papermill": {
     "duration": 0.031372,
     "end_time": "2022-07-11T03:25:37.125967",
     "exception": false,
     "start_time": "2022-07-11T03:25:37.094595",
     "status": "completed"
    },
    "tags": []
   },
   "outputs": [],
   "source": [
    "for dataset in combine:\n",
    "    title_mapping = {\"Mr\": 1, \"Miss\": 2, \"Mrs\": 3, \"Master\": 4, \"Rare\": 5}\n",
    "    dataset['Title'] = dataset['Title'].map(title_mapping)\n",
    "    dataset['Title'] = dataset['Title'].fillna(0)"
   ]
  },
  {
   "cell_type": "code",
   "execution_count": 14,
   "id": "204f5c51",
   "metadata": {
    "execution": {
     "iopub.execute_input": "2022-07-11T03:25:37.165979Z",
     "iopub.status.busy": "2022-07-11T03:25:37.165267Z",
     "iopub.status.idle": "2022-07-11T03:25:37.172427Z",
     "shell.execute_reply": "2022-07-11T03:25:37.171302Z"
    },
    "papermill": {
     "duration": 0.02989,
     "end_time": "2022-07-11T03:25:37.174810",
     "exception": false,
     "start_time": "2022-07-11T03:25:37.144920",
     "status": "completed"
    },
    "tags": []
   },
   "outputs": [],
   "source": [
    "# We'll drop the name feature for this analysis. While we could potentially find some data from this, for the purposes of this exercise we will not use this data\n",
    "train = train.drop(['Name'], axis = 1)\n",
    "test = test.drop(['Name'], axis = 1)"
   ]
  },
  {
   "cell_type": "code",
   "execution_count": 15,
   "id": "28204d8b",
   "metadata": {
    "execution": {
     "iopub.execute_input": "2022-07-11T03:25:37.215199Z",
     "iopub.status.busy": "2022-07-11T03:25:37.214482Z",
     "iopub.status.idle": "2022-07-11T03:25:37.233796Z",
     "shell.execute_reply": "2022-07-11T03:25:37.232971Z"
    },
    "papermill": {
     "duration": 0.041885,
     "end_time": "2022-07-11T03:25:37.235943",
     "exception": false,
     "start_time": "2022-07-11T03:25:37.194058",
     "status": "completed"
    },
    "tags": []
   },
   "outputs": [
    {
     "data": {
      "text/html": [
       "<div>\n",
       "<style scoped>\n",
       "    .dataframe tbody tr th:only-of-type {\n",
       "        vertical-align: middle;\n",
       "    }\n",
       "\n",
       "    .dataframe tbody tr th {\n",
       "        vertical-align: top;\n",
       "    }\n",
       "\n",
       "    .dataframe thead th {\n",
       "        text-align: right;\n",
       "    }\n",
       "</style>\n",
       "<table border=\"1\" class=\"dataframe\">\n",
       "  <thead>\n",
       "    <tr style=\"text-align: right;\">\n",
       "      <th></th>\n",
       "      <th>PassengerId</th>\n",
       "      <th>Survived</th>\n",
       "      <th>Pclass</th>\n",
       "      <th>Sex</th>\n",
       "      <th>Age</th>\n",
       "      <th>SibSp</th>\n",
       "      <th>Parch</th>\n",
       "      <th>Ticket</th>\n",
       "      <th>Fare</th>\n",
       "      <th>Cabin</th>\n",
       "      <th>Embarked</th>\n",
       "      <th>Title</th>\n",
       "    </tr>\n",
       "  </thead>\n",
       "  <tbody>\n",
       "    <tr>\n",
       "      <th>0</th>\n",
       "      <td>1</td>\n",
       "      <td>0</td>\n",
       "      <td>3</td>\n",
       "      <td>0</td>\n",
       "      <td>22.0</td>\n",
       "      <td>1</td>\n",
       "      <td>0</td>\n",
       "      <td>A/5 21171</td>\n",
       "      <td>7.2500</td>\n",
       "      <td>NaN</td>\n",
       "      <td>S</td>\n",
       "      <td>1.0</td>\n",
       "    </tr>\n",
       "    <tr>\n",
       "      <th>1</th>\n",
       "      <td>2</td>\n",
       "      <td>1</td>\n",
       "      <td>1</td>\n",
       "      <td>1</td>\n",
       "      <td>38.0</td>\n",
       "      <td>1</td>\n",
       "      <td>0</td>\n",
       "      <td>PC 17599</td>\n",
       "      <td>71.2833</td>\n",
       "      <td>C85</td>\n",
       "      <td>C</td>\n",
       "      <td>3.0</td>\n",
       "    </tr>\n",
       "    <tr>\n",
       "      <th>2</th>\n",
       "      <td>3</td>\n",
       "      <td>1</td>\n",
       "      <td>3</td>\n",
       "      <td>1</td>\n",
       "      <td>26.0</td>\n",
       "      <td>0</td>\n",
       "      <td>0</td>\n",
       "      <td>STON/O2. 3101282</td>\n",
       "      <td>7.9250</td>\n",
       "      <td>NaN</td>\n",
       "      <td>S</td>\n",
       "      <td>2.0</td>\n",
       "    </tr>\n",
       "    <tr>\n",
       "      <th>3</th>\n",
       "      <td>4</td>\n",
       "      <td>1</td>\n",
       "      <td>1</td>\n",
       "      <td>1</td>\n",
       "      <td>35.0</td>\n",
       "      <td>1</td>\n",
       "      <td>0</td>\n",
       "      <td>113803</td>\n",
       "      <td>53.1000</td>\n",
       "      <td>C123</td>\n",
       "      <td>S</td>\n",
       "      <td>3.0</td>\n",
       "    </tr>\n",
       "    <tr>\n",
       "      <th>4</th>\n",
       "      <td>5</td>\n",
       "      <td>0</td>\n",
       "      <td>3</td>\n",
       "      <td>0</td>\n",
       "      <td>35.0</td>\n",
       "      <td>0</td>\n",
       "      <td>0</td>\n",
       "      <td>373450</td>\n",
       "      <td>8.0500</td>\n",
       "      <td>NaN</td>\n",
       "      <td>S</td>\n",
       "      <td>1.0</td>\n",
       "    </tr>\n",
       "  </tbody>\n",
       "</table>\n",
       "</div>"
      ],
      "text/plain": [
       "   PassengerId  Survived  Pclass  Sex   Age  SibSp  Parch            Ticket  \\\n",
       "0            1         0       3    0  22.0      1      0         A/5 21171   \n",
       "1            2         1       1    1  38.0      1      0          PC 17599   \n",
       "2            3         1       3    1  26.0      0      0  STON/O2. 3101282   \n",
       "3            4         1       1    1  35.0      1      0            113803   \n",
       "4            5         0       3    0  35.0      0      0            373450   \n",
       "\n",
       "      Fare Cabin Embarked  Title  \n",
       "0   7.2500   NaN        S    1.0  \n",
       "1  71.2833   C85        C    3.0  \n",
       "2   7.9250   NaN        S    2.0  \n",
       "3  53.1000  C123        S    3.0  \n",
       "4   8.0500   NaN        S    1.0  "
      ]
     },
     "execution_count": 15,
     "metadata": {},
     "output_type": "execute_result"
    }
   ],
   "source": [
    "# We mentioned earlier that Sex would need to be changed to and int\n",
    "sex_mapping = {\"male\": 0, \"female\": 1}\n",
    "train['Sex'] = train['Sex'].map(sex_mapping)\n",
    "test['Sex'] = test['Sex'].map(sex_mapping)\n",
    "\n",
    "train.head()"
   ]
  },
  {
   "cell_type": "markdown",
   "id": "4f298549",
   "metadata": {
    "papermill": {
     "duration": 0.018814,
     "end_time": "2022-07-11T03:25:37.273942",
     "exception": false,
     "start_time": "2022-07-11T03:25:37.255128",
     "status": "completed"
    },
    "tags": []
   },
   "source": [
    "#### Predict Missing Ages\n",
    "\n",
    "Next we'll fill in the missing values in the Age feature. Since a higher percentage of values are missing, it would be illogical to fill all of them with the same value. Instead, we will try to predict the missing ages."
   ]
  },
  {
   "cell_type": "code",
   "execution_count": 16,
   "id": "8a2ee45b",
   "metadata": {
    "execution": {
     "iopub.execute_input": "2022-07-11T03:25:37.314741Z",
     "iopub.status.busy": "2022-07-11T03:25:37.314022Z",
     "iopub.status.idle": "2022-07-11T03:25:37.331104Z",
     "shell.execute_reply": "2022-07-11T03:25:37.330304Z"
    },
    "papermill": {
     "duration": 0.040212,
     "end_time": "2022-07-11T03:25:37.333433",
     "exception": false,
     "start_time": "2022-07-11T03:25:37.293221",
     "status": "completed"
    },
    "tags": []
   },
   "outputs": [
    {
     "data": {
      "text/html": [
       "<div>\n",
       "<style scoped>\n",
       "    .dataframe tbody tr th:only-of-type {\n",
       "        vertical-align: middle;\n",
       "    }\n",
       "\n",
       "    .dataframe tbody tr th {\n",
       "        vertical-align: top;\n",
       "    }\n",
       "\n",
       "    .dataframe thead th {\n",
       "        text-align: right;\n",
       "    }\n",
       "</style>\n",
       "<table border=\"1\" class=\"dataframe\">\n",
       "  <thead>\n",
       "    <tr style=\"text-align: right;\">\n",
       "      <th></th>\n",
       "      <th>Feature 1</th>\n",
       "      <th>Feature 2</th>\n",
       "      <th>Correlation Coefficient</th>\n",
       "    </tr>\n",
       "  </thead>\n",
       "  <tbody>\n",
       "    <tr>\n",
       "      <th>7</th>\n",
       "      <td>Age</td>\n",
       "      <td>Age</td>\n",
       "      <td>1.000000</td>\n",
       "    </tr>\n",
       "    <tr>\n",
       "      <th>19</th>\n",
       "      <td>Age</td>\n",
       "      <td>Pclass</td>\n",
       "      <td>0.360547</td>\n",
       "    </tr>\n",
       "    <tr>\n",
       "      <th>34</th>\n",
       "      <td>Age</td>\n",
       "      <td>SibSp</td>\n",
       "      <td>0.183470</td>\n",
       "    </tr>\n",
       "    <tr>\n",
       "      <th>41</th>\n",
       "      <td>Age</td>\n",
       "      <td>Fare</td>\n",
       "      <td>0.135617</td>\n",
       "    </tr>\n",
       "    <tr>\n",
       "      <th>55</th>\n",
       "      <td>Age</td>\n",
       "      <td>Parch</td>\n",
       "      <td>0.047017</td>\n",
       "    </tr>\n",
       "    <tr>\n",
       "      <th>60</th>\n",
       "      <td>Age</td>\n",
       "      <td>PassengerId</td>\n",
       "      <td>0.038062</td>\n",
       "    </tr>\n",
       "    <tr>\n",
       "      <th>66</th>\n",
       "      <td>Age</td>\n",
       "      <td>Sex</td>\n",
       "      <td>0.024167</td>\n",
       "    </tr>\n",
       "    <tr>\n",
       "      <th>72</th>\n",
       "      <td>Age</td>\n",
       "      <td>Survived</td>\n",
       "      <td>0.011497</td>\n",
       "    </tr>\n",
       "    <tr>\n",
       "      <th>78</th>\n",
       "      <td>Age</td>\n",
       "      <td>Title</td>\n",
       "      <td>0.002374</td>\n",
       "    </tr>\n",
       "  </tbody>\n",
       "</table>\n",
       "</div>"
      ],
      "text/plain": [
       "   Feature 1    Feature 2  Correlation Coefficient\n",
       "7        Age          Age                 1.000000\n",
       "19       Age       Pclass                 0.360547\n",
       "34       Age        SibSp                 0.183470\n",
       "41       Age         Fare                 0.135617\n",
       "55       Age        Parch                 0.047017\n",
       "60       Age  PassengerId                 0.038062\n",
       "66       Age          Sex                 0.024167\n",
       "72       Age     Survived                 0.011497\n",
       "78       Age        Title                 0.002374"
      ]
     },
     "execution_count": 16,
     "metadata": {},
     "output_type": "execute_result"
    }
   ],
   "source": [
    "# Calculate the correlation between features\n",
    "train_corr = train.corr().abs().unstack().sort_values(kind=\"quicksort\", ascending=False).reset_index()\n",
    "train_corr.rename(columns={\"level_0\": \"Feature 1\", \"level_1\": \"Feature 2\", 0: 'Correlation Coefficient'}, inplace=True)\n",
    "train_corr[train_corr['Feature 1'] == 'Age']"
   ]
  },
  {
   "cell_type": "code",
   "execution_count": 17,
   "id": "adb8e505",
   "metadata": {
    "execution": {
     "iopub.execute_input": "2022-07-11T03:25:37.374476Z",
     "iopub.status.busy": "2022-07-11T03:25:37.373818Z",
     "iopub.status.idle": "2022-07-11T03:25:37.396656Z",
     "shell.execute_reply": "2022-07-11T03:25:37.395742Z"
    },
    "papermill": {
     "duration": 0.046358,
     "end_time": "2022-07-11T03:25:37.399310",
     "exception": false,
     "start_time": "2022-07-11T03:25:37.352952",
     "status": "completed"
    },
    "tags": []
   },
   "outputs": [],
   "source": [
    "# Take the median value for Age feature based on 'Pclass' and 'Title'\n",
    "train['Age'] = train.groupby(['Pclass', 'Title'])['Age'].apply(lambda x: x.fillna(x.median()))\n",
    "test['Age'] = test.groupby(['Pclass', 'Title'])['Age'].apply(lambda x: x.fillna(x.median()))"
   ]
  },
  {
   "cell_type": "code",
   "execution_count": 18,
   "id": "8850a7a2",
   "metadata": {
    "execution": {
     "iopub.execute_input": "2022-07-11T03:25:37.441312Z",
     "iopub.status.busy": "2022-07-11T03:25:37.440406Z",
     "iopub.status.idle": "2022-07-11T03:25:37.447446Z",
     "shell.execute_reply": "2022-07-11T03:25:37.446672Z"
    },
    "papermill": {
     "duration": 0.030033,
     "end_time": "2022-07-11T03:25:37.449567",
     "exception": false,
     "start_time": "2022-07-11T03:25:37.419534",
     "status": "completed"
    },
    "tags": []
   },
   "outputs": [],
   "source": [
    "# We can also drop the Ticket feature since it's unlikely to yield any useful information\n",
    "train = train.drop(['Ticket'], axis = 1)\n",
    "test = test.drop(['Ticket'], axis = 1)"
   ]
  },
  {
   "cell_type": "code",
   "execution_count": 19,
   "id": "76b1449b",
   "metadata": {
    "execution": {
     "iopub.execute_input": "2022-07-11T03:25:37.490469Z",
     "iopub.status.busy": "2022-07-11T03:25:37.489795Z",
     "iopub.status.idle": "2022-07-11T03:25:37.502147Z",
     "shell.execute_reply": "2022-07-11T03:25:37.500807Z"
    },
    "papermill": {
     "duration": 0.035908,
     "end_time": "2022-07-11T03:25:37.504808",
     "exception": false,
     "start_time": "2022-07-11T03:25:37.468900",
     "status": "completed"
    },
    "tags": []
   },
   "outputs": [],
   "source": [
    "# Fill in missing Fare value in test set based on mean fare for that Pclass \n",
    "for x in range(len(test[\"Fare\"])):\n",
    "    if pd.isnull(test[\"Fare\"][x]):\n",
    "        pclass = test[\"Pclass\"][x] #Pclass = 3\n",
    "        test[\"Fare\"][x] = round(train[train[\"Pclass\"] == pclass][\"Fare\"].mean(), 4)"
   ]
  },
  {
   "cell_type": "code",
   "execution_count": 20,
   "id": "57cc9b96",
   "metadata": {
    "execution": {
     "iopub.execute_input": "2022-07-11T03:25:37.546216Z",
     "iopub.status.busy": "2022-07-11T03:25:37.545854Z",
     "iopub.status.idle": "2022-07-11T03:25:37.558152Z",
     "shell.execute_reply": "2022-07-11T03:25:37.557065Z"
    },
    "papermill": {
     "duration": 0.035633,
     "end_time": "2022-07-11T03:25:37.560526",
     "exception": false,
     "start_time": "2022-07-11T03:25:37.524893",
     "status": "completed"
    },
    "tags": []
   },
   "outputs": [],
   "source": [
    "# Map Fare values into groups of numerical values\n",
    "train['FareBand'] = pd.qcut(train['Fare'], 4, labels = [1, 2, 3, 4])\n",
    "test['FareBand'] = pd.qcut(test['Fare'], 4, labels = [1, 2, 3, 4])\n",
    "for dataset in combine:\n",
    "    dataset['Fare'] = dataset['Fare'].fillna(train['Fare'].median())"
   ]
  },
  {
   "cell_type": "code",
   "execution_count": 21,
   "id": "d6b29308",
   "metadata": {
    "execution": {
     "iopub.execute_input": "2022-07-11T03:25:37.602605Z",
     "iopub.status.busy": "2022-07-11T03:25:37.602201Z",
     "iopub.status.idle": "2022-07-11T03:25:37.618597Z",
     "shell.execute_reply": "2022-07-11T03:25:37.617523Z"
    },
    "papermill": {
     "duration": 0.04085,
     "end_time": "2022-07-11T03:25:37.621033",
     "exception": false,
     "start_time": "2022-07-11T03:25:37.580183",
     "status": "completed"
    },
    "tags": []
   },
   "outputs": [],
   "source": [
    "for dataset in combine:\n",
    "    dataset.loc[ dataset['Fare'] <= 7.91, 'Fare'] = 0\n",
    "    dataset.loc[(dataset['Fare'] > 7.91) & (dataset['Fare'] <= 14.454), 'Fare'] = 1\n",
    "    dataset.loc[(dataset['Fare'] > 14.454) & (dataset['Fare'] <= 31), 'Fare'] = 2\n",
    "    dataset.loc[ dataset['Fare'] > 31, 'Fare'] = 3\n",
    "    dataset['Fare'] = dataset['Fare'].astype(int)\n",
    "\n",
    "# Drop Fare values\n",
    "train = train.drop(['Fare'], axis = 1)\n",
    "test = test.drop(['Fare'], axis = 1)"
   ]
  },
  {
   "cell_type": "code",
   "execution_count": 22,
   "id": "e0ecba0f",
   "metadata": {
    "execution": {
     "iopub.execute_input": "2022-07-11T03:25:37.662122Z",
     "iopub.status.busy": "2022-07-11T03:25:37.661424Z",
     "iopub.status.idle": "2022-07-11T03:25:37.667866Z",
     "shell.execute_reply": "2022-07-11T03:25:37.666955Z"
    },
    "papermill": {
     "duration": 0.029529,
     "end_time": "2022-07-11T03:25:37.670215",
     "exception": false,
     "start_time": "2022-07-11T03:25:37.640686",
     "status": "completed"
    },
    "tags": []
   },
   "outputs": [],
   "source": [
    "# Drop the Cabin feature\n",
    "train = train.drop(['Cabin'], axis = 1)\n",
    "test = test.drop(['Cabin'], axis = 1)"
   ]
  },
  {
   "cell_type": "code",
   "execution_count": 23,
   "id": "19181a5d",
   "metadata": {
    "execution": {
     "iopub.execute_input": "2022-07-11T03:25:37.712207Z",
     "iopub.status.busy": "2022-07-11T03:25:37.711247Z",
     "iopub.status.idle": "2022-07-11T03:25:37.717508Z",
     "shell.execute_reply": "2022-07-11T03:25:37.716733Z"
    },
    "papermill": {
     "duration": 0.030017,
     "end_time": "2022-07-11T03:25:37.719676",
     "exception": false,
     "start_time": "2022-07-11T03:25:37.689659",
     "status": "completed"
    },
    "tags": []
   },
   "outputs": [],
   "source": [
    "# Fill missing Embark with \"S\"\n",
    "train = train.fillna({\"Embarked\": \"S\"})"
   ]
  },
  {
   "cell_type": "code",
   "execution_count": 24,
   "id": "ef60401e",
   "metadata": {
    "execution": {
     "iopub.execute_input": "2022-07-11T03:25:37.761166Z",
     "iopub.status.busy": "2022-07-11T03:25:37.760472Z",
     "iopub.status.idle": "2022-07-11T03:25:37.779515Z",
     "shell.execute_reply": "2022-07-11T03:25:37.778344Z"
    },
    "papermill": {
     "duration": 0.042625,
     "end_time": "2022-07-11T03:25:37.782128",
     "exception": false,
     "start_time": "2022-07-11T03:25:37.739503",
     "status": "completed"
    },
    "tags": []
   },
   "outputs": [
    {
     "data": {
      "text/html": [
       "<div>\n",
       "<style scoped>\n",
       "    .dataframe tbody tr th:only-of-type {\n",
       "        vertical-align: middle;\n",
       "    }\n",
       "\n",
       "    .dataframe tbody tr th {\n",
       "        vertical-align: top;\n",
       "    }\n",
       "\n",
       "    .dataframe thead th {\n",
       "        text-align: right;\n",
       "    }\n",
       "</style>\n",
       "<table border=\"1\" class=\"dataframe\">\n",
       "  <thead>\n",
       "    <tr style=\"text-align: right;\">\n",
       "      <th></th>\n",
       "      <th>PassengerId</th>\n",
       "      <th>Survived</th>\n",
       "      <th>Pclass</th>\n",
       "      <th>Sex</th>\n",
       "      <th>Age</th>\n",
       "      <th>SibSp</th>\n",
       "      <th>Parch</th>\n",
       "      <th>Embarked</th>\n",
       "      <th>Title</th>\n",
       "      <th>FareBand</th>\n",
       "    </tr>\n",
       "  </thead>\n",
       "  <tbody>\n",
       "    <tr>\n",
       "      <th>0</th>\n",
       "      <td>1</td>\n",
       "      <td>0</td>\n",
       "      <td>3</td>\n",
       "      <td>0</td>\n",
       "      <td>22.0</td>\n",
       "      <td>1</td>\n",
       "      <td>0</td>\n",
       "      <td>1</td>\n",
       "      <td>1.0</td>\n",
       "      <td>1</td>\n",
       "    </tr>\n",
       "    <tr>\n",
       "      <th>1</th>\n",
       "      <td>2</td>\n",
       "      <td>1</td>\n",
       "      <td>1</td>\n",
       "      <td>1</td>\n",
       "      <td>38.0</td>\n",
       "      <td>1</td>\n",
       "      <td>0</td>\n",
       "      <td>2</td>\n",
       "      <td>3.0</td>\n",
       "      <td>4</td>\n",
       "    </tr>\n",
       "    <tr>\n",
       "      <th>2</th>\n",
       "      <td>3</td>\n",
       "      <td>1</td>\n",
       "      <td>3</td>\n",
       "      <td>1</td>\n",
       "      <td>26.0</td>\n",
       "      <td>0</td>\n",
       "      <td>0</td>\n",
       "      <td>1</td>\n",
       "      <td>2.0</td>\n",
       "      <td>2</td>\n",
       "    </tr>\n",
       "    <tr>\n",
       "      <th>3</th>\n",
       "      <td>4</td>\n",
       "      <td>1</td>\n",
       "      <td>1</td>\n",
       "      <td>1</td>\n",
       "      <td>35.0</td>\n",
       "      <td>1</td>\n",
       "      <td>0</td>\n",
       "      <td>1</td>\n",
       "      <td>3.0</td>\n",
       "      <td>4</td>\n",
       "    </tr>\n",
       "    <tr>\n",
       "      <th>4</th>\n",
       "      <td>5</td>\n",
       "      <td>0</td>\n",
       "      <td>3</td>\n",
       "      <td>0</td>\n",
       "      <td>35.0</td>\n",
       "      <td>0</td>\n",
       "      <td>0</td>\n",
       "      <td>1</td>\n",
       "      <td>1.0</td>\n",
       "      <td>2</td>\n",
       "    </tr>\n",
       "  </tbody>\n",
       "</table>\n",
       "</div>"
      ],
      "text/plain": [
       "   PassengerId  Survived  Pclass  Sex   Age  SibSp  Parch  Embarked  Title  \\\n",
       "0            1         0       3    0  22.0      1      0         1    1.0   \n",
       "1            2         1       1    1  38.0      1      0         2    3.0   \n",
       "2            3         1       3    1  26.0      0      0         1    2.0   \n",
       "3            4         1       1    1  35.0      1      0         1    3.0   \n",
       "4            5         0       3    0  35.0      0      0         1    1.0   \n",
       "\n",
       "  FareBand  \n",
       "0        1  \n",
       "1        4  \n",
       "2        2  \n",
       "3        4  \n",
       "4        2  "
      ]
     },
     "execution_count": 24,
     "metadata": {},
     "output_type": "execute_result"
    }
   ],
   "source": [
    "# Map each Embarked value to a numerical value\n",
    "embarked_mapping = {\"S\": 1, \"C\": 2, \"Q\": 3}\n",
    "train['Embarked'] = train['Embarked'].map(embarked_mapping)\n",
    "test['Embarked'] = test['Embarked'].map(embarked_mapping)\n",
    "\n",
    "train.head()"
   ]
  },
  {
   "cell_type": "code",
   "execution_count": 25,
   "id": "3148358d",
   "metadata": {
    "execution": {
     "iopub.execute_input": "2022-07-11T03:25:37.822429Z",
     "iopub.status.busy": "2022-07-11T03:25:37.822058Z",
     "iopub.status.idle": "2022-07-11T03:25:37.831520Z",
     "shell.execute_reply": "2022-07-11T03:25:37.830739Z"
    },
    "papermill": {
     "duration": 0.032147,
     "end_time": "2022-07-11T03:25:37.833647",
     "exception": false,
     "start_time": "2022-07-11T03:25:37.801500",
     "status": "completed"
    },
    "tags": []
   },
   "outputs": [
    {
     "data": {
      "text/plain": [
       "PassengerId    0\n",
       "Survived       0\n",
       "Pclass         0\n",
       "Sex            0\n",
       "Age            0\n",
       "SibSp          0\n",
       "Parch          0\n",
       "Embarked       0\n",
       "Title          0\n",
       "FareBand       0\n",
       "dtype: int64"
      ]
     },
     "execution_count": 25,
     "metadata": {},
     "output_type": "execute_result"
    }
   ],
   "source": [
    "# Check to make sure we have no null rows\n",
    "train.isnull().sum()"
   ]
  },
  {
   "cell_type": "code",
   "execution_count": 26,
   "id": "a355edd3",
   "metadata": {
    "execution": {
     "iopub.execute_input": "2022-07-11T03:25:37.874452Z",
     "iopub.status.busy": "2022-07-11T03:25:37.873798Z",
     "iopub.status.idle": "2022-07-11T03:25:37.879915Z",
     "shell.execute_reply": "2022-07-11T03:25:37.879098Z"
    },
    "papermill": {
     "duration": 0.029124,
     "end_time": "2022-07-11T03:25:37.882068",
     "exception": false,
     "start_time": "2022-07-11T03:25:37.852944",
     "status": "completed"
    },
    "tags": []
   },
   "outputs": [],
   "source": [
    "target = train[\"Survived\"]\n",
    "predictors = train.drop(['Survived', 'PassengerId'], axis = 1)"
   ]
  },
  {
   "cell_type": "markdown",
   "id": "4255dff7",
   "metadata": {
    "execution": {
     "iopub.execute_input": "2022-07-11T03:00:41.608689Z",
     "iopub.status.busy": "2022-07-11T03:00:41.608319Z",
     "iopub.status.idle": "2022-07-11T03:00:41.61624Z",
     "shell.execute_reply": "2022-07-11T03:00:41.615003Z",
     "shell.execute_reply.started": "2022-07-11T03:00:41.60866Z"
    },
    "papermill": {
     "duration": 0.019483,
     "end_time": "2022-07-11T03:25:37.921550",
     "exception": false,
     "start_time": "2022-07-11T03:25:37.902067",
     "status": "completed"
    },
    "tags": []
   },
   "source": [
    "# 4. Modeling 📷💃\n",
    "\n",
    "Now to the fun part, we're going to run some models on the data. We will use the following:\n",
    "\n",
    "* Support Vector Machines\n",
    "* K-Nearst Neighbor\n",
    "* Logistic Regression\n",
    "* Random Forest\n",
    "* Naive Bayes\n",
    "* Perceptron\n",
    "* Linear SVC\n",
    "* Decision Tree\n",
    "* Stochastic Gradient Descent\n",
    "* Gradient Boosting Classifier"
   ]
  },
  {
   "cell_type": "code",
   "execution_count": 27,
   "id": "91d23c3e",
   "metadata": {
    "execution": {
     "iopub.execute_input": "2022-07-11T03:25:37.962860Z",
     "iopub.status.busy": "2022-07-11T03:25:37.962198Z",
     "iopub.status.idle": "2022-07-11T03:25:37.968834Z",
     "shell.execute_reply": "2022-07-11T03:25:37.968008Z"
    },
    "papermill": {
     "duration": 0.029646,
     "end_time": "2022-07-11T03:25:37.970897",
     "exception": false,
     "start_time": "2022-07-11T03:25:37.941251",
     "status": "completed"
    },
    "tags": []
   },
   "outputs": [],
   "source": [
    "from sklearn.model_selection import train_test_split\n",
    "\n",
    "x_train, x_val, y_train, y_val = train_test_split(predictors, target, test_size = 0.20, random_state = 0)"
   ]
  },
  {
   "cell_type": "code",
   "execution_count": 28,
   "id": "c2d98ebe",
   "metadata": {
    "execution": {
     "iopub.execute_input": "2022-07-11T03:25:38.012538Z",
     "iopub.status.busy": "2022-07-11T03:25:38.011844Z",
     "iopub.status.idle": "2022-07-11T03:25:38.025485Z",
     "shell.execute_reply": "2022-07-11T03:25:38.024613Z"
    },
    "papermill": {
     "duration": 0.036789,
     "end_time": "2022-07-11T03:25:38.027468",
     "exception": false,
     "start_time": "2022-07-11T03:25:37.990679",
     "status": "completed"
    },
    "tags": []
   },
   "outputs": [
    {
     "data": {
      "text/html": [
       "<div>\n",
       "<style scoped>\n",
       "    .dataframe tbody tr th:only-of-type {\n",
       "        vertical-align: middle;\n",
       "    }\n",
       "\n",
       "    .dataframe tbody tr th {\n",
       "        vertical-align: top;\n",
       "    }\n",
       "\n",
       "    .dataframe thead th {\n",
       "        text-align: right;\n",
       "    }\n",
       "</style>\n",
       "<table border=\"1\" class=\"dataframe\">\n",
       "  <thead>\n",
       "    <tr style=\"text-align: right;\">\n",
       "      <th></th>\n",
       "      <th>Pclass</th>\n",
       "      <th>Sex</th>\n",
       "      <th>Age</th>\n",
       "      <th>SibSp</th>\n",
       "      <th>Parch</th>\n",
       "      <th>Embarked</th>\n",
       "      <th>Title</th>\n",
       "      <th>FareBand</th>\n",
       "    </tr>\n",
       "  </thead>\n",
       "  <tbody>\n",
       "    <tr>\n",
       "      <th>0</th>\n",
       "      <td>3</td>\n",
       "      <td>0</td>\n",
       "      <td>22.0</td>\n",
       "      <td>1</td>\n",
       "      <td>0</td>\n",
       "      <td>1</td>\n",
       "      <td>1.0</td>\n",
       "      <td>1</td>\n",
       "    </tr>\n",
       "    <tr>\n",
       "      <th>1</th>\n",
       "      <td>1</td>\n",
       "      <td>1</td>\n",
       "      <td>38.0</td>\n",
       "      <td>1</td>\n",
       "      <td>0</td>\n",
       "      <td>2</td>\n",
       "      <td>3.0</td>\n",
       "      <td>4</td>\n",
       "    </tr>\n",
       "    <tr>\n",
       "      <th>2</th>\n",
       "      <td>3</td>\n",
       "      <td>1</td>\n",
       "      <td>26.0</td>\n",
       "      <td>0</td>\n",
       "      <td>0</td>\n",
       "      <td>1</td>\n",
       "      <td>2.0</td>\n",
       "      <td>2</td>\n",
       "    </tr>\n",
       "    <tr>\n",
       "      <th>3</th>\n",
       "      <td>1</td>\n",
       "      <td>1</td>\n",
       "      <td>35.0</td>\n",
       "      <td>1</td>\n",
       "      <td>0</td>\n",
       "      <td>1</td>\n",
       "      <td>3.0</td>\n",
       "      <td>4</td>\n",
       "    </tr>\n",
       "    <tr>\n",
       "      <th>4</th>\n",
       "      <td>3</td>\n",
       "      <td>0</td>\n",
       "      <td>35.0</td>\n",
       "      <td>0</td>\n",
       "      <td>0</td>\n",
       "      <td>1</td>\n",
       "      <td>1.0</td>\n",
       "      <td>2</td>\n",
       "    </tr>\n",
       "  </tbody>\n",
       "</table>\n",
       "</div>"
      ],
      "text/plain": [
       "   Pclass  Sex   Age  SibSp  Parch  Embarked  Title FareBand\n",
       "0       3    0  22.0      1      0         1    1.0        1\n",
       "1       1    1  38.0      1      0         2    3.0        4\n",
       "2       3    1  26.0      0      0         1    2.0        2\n",
       "3       1    1  35.0      1      0         1    3.0        4\n",
       "4       3    0  35.0      0      0         1    1.0        2"
      ]
     },
     "execution_count": 28,
     "metadata": {},
     "output_type": "execute_result"
    }
   ],
   "source": [
    "predictors.head()"
   ]
  },
  {
   "cell_type": "code",
   "execution_count": 29,
   "id": "ed7976b5",
   "metadata": {
    "execution": {
     "iopub.execute_input": "2022-07-11T03:25:38.070066Z",
     "iopub.status.busy": "2022-07-11T03:25:38.069321Z",
     "iopub.status.idle": "2022-07-11T03:25:38.082305Z",
     "shell.execute_reply": "2022-07-11T03:25:38.081102Z"
    },
    "papermill": {
     "duration": 0.036743,
     "end_time": "2022-07-11T03:25:38.084604",
     "exception": false,
     "start_time": "2022-07-11T03:25:38.047861",
     "status": "completed"
    },
    "tags": []
   },
   "outputs": [
    {
     "name": "stdout",
     "output_type": "stream",
     "text": [
      "77.65\n"
     ]
    }
   ],
   "source": [
    "# Gaussian Naive Bayes\n",
    "from sklearn.naive_bayes import GaussianNB\n",
    "from sklearn.metrics import accuracy_score\n",
    "\n",
    "gaussian = GaussianNB()\n",
    "gaussian.fit(x_train, y_train)\n",
    "y_pred = gaussian.predict(x_val)\n",
    "acc_gaussian = round(accuracy_score(y_pred, y_val) * 100, 2)\n",
    "print(acc_gaussian)"
   ]
  },
  {
   "cell_type": "code",
   "execution_count": 30,
   "id": "54adaad4",
   "metadata": {
    "execution": {
     "iopub.execute_input": "2022-07-11T03:25:38.127660Z",
     "iopub.status.busy": "2022-07-11T03:25:38.126971Z",
     "iopub.status.idle": "2022-07-11T03:25:38.155452Z",
     "shell.execute_reply": "2022-07-11T03:25:38.154395Z"
    },
    "papermill": {
     "duration": 0.052975,
     "end_time": "2022-07-11T03:25:38.158263",
     "exception": false,
     "start_time": "2022-07-11T03:25:38.105288",
     "status": "completed"
    },
    "tags": []
   },
   "outputs": [
    {
     "name": "stdout",
     "output_type": "stream",
     "text": [
      "78.21\n"
     ]
    }
   ],
   "source": [
    "# Logistic Regression\n",
    "from sklearn.linear_model import LogisticRegression\n",
    "\n",
    "logreg = LogisticRegression()\n",
    "logreg.fit(x_train, y_train)\n",
    "y_pred = logreg.predict(x_val)\n",
    "acc_logreg = round(accuracy_score(y_pred, y_val) * 100, 2)\n",
    "print(acc_logreg)"
   ]
  },
  {
   "cell_type": "code",
   "execution_count": 31,
   "id": "c51f0e44",
   "metadata": {
    "execution": {
     "iopub.execute_input": "2022-07-11T03:25:38.201554Z",
     "iopub.status.busy": "2022-07-11T03:25:38.200868Z",
     "iopub.status.idle": "2022-07-11T03:25:38.238804Z",
     "shell.execute_reply": "2022-07-11T03:25:38.237511Z"
    },
    "papermill": {
     "duration": 0.062518,
     "end_time": "2022-07-11T03:25:38.241179",
     "exception": false,
     "start_time": "2022-07-11T03:25:38.178661",
     "status": "completed"
    },
    "tags": []
   },
   "outputs": [
    {
     "name": "stdout",
     "output_type": "stream",
     "text": [
      "69.27\n"
     ]
    }
   ],
   "source": [
    "# Support Vector Machines\n",
    "from sklearn.svm import SVC\n",
    "\n",
    "svc = SVC()\n",
    "svc.fit(x_train, y_train)\n",
    "y_pred = svc.predict(x_val)\n",
    "acc_svc = round(accuracy_score(y_pred, y_val) * 100, 2)\n",
    "print(acc_svc)"
   ]
  },
  {
   "cell_type": "code",
   "execution_count": 32,
   "id": "adbcd34d",
   "metadata": {
    "execution": {
     "iopub.execute_input": "2022-07-11T03:25:38.285375Z",
     "iopub.status.busy": "2022-07-11T03:25:38.284676Z",
     "iopub.status.idle": "2022-07-11T03:25:38.330351Z",
     "shell.execute_reply": "2022-07-11T03:25:38.329063Z"
    },
    "papermill": {
     "duration": 0.070588,
     "end_time": "2022-07-11T03:25:38.332892",
     "exception": false,
     "start_time": "2022-07-11T03:25:38.262304",
     "status": "completed"
    },
    "tags": []
   },
   "outputs": [
    {
     "name": "stdout",
     "output_type": "stream",
     "text": [
      "78.77\n"
     ]
    }
   ],
   "source": [
    "# Linear SVC\n",
    "from sklearn.svm import LinearSVC\n",
    "\n",
    "linear_svc = LinearSVC()\n",
    "linear_svc.fit(x_train, y_train)\n",
    "y_pred = linear_svc.predict(x_val)\n",
    "acc_linear_svc = round(accuracy_score(y_pred, y_val) * 100, 2)\n",
    "print(acc_linear_svc)"
   ]
  },
  {
   "cell_type": "code",
   "execution_count": 33,
   "id": "c9d38dde",
   "metadata": {
    "execution": {
     "iopub.execute_input": "2022-07-11T03:25:38.376746Z",
     "iopub.status.busy": "2022-07-11T03:25:38.376040Z",
     "iopub.status.idle": "2022-07-11T03:25:38.389302Z",
     "shell.execute_reply": "2022-07-11T03:25:38.387744Z"
    },
    "papermill": {
     "duration": 0.03825,
     "end_time": "2022-07-11T03:25:38.392021",
     "exception": false,
     "start_time": "2022-07-11T03:25:38.353771",
     "status": "completed"
    },
    "tags": []
   },
   "outputs": [
    {
     "name": "stdout",
     "output_type": "stream",
     "text": [
      "79.89\n"
     ]
    }
   ],
   "source": [
    "# Perceptron\n",
    "from sklearn.linear_model import Perceptron\n",
    "\n",
    "perceptron = Perceptron()\n",
    "perceptron.fit(x_train, y_train)\n",
    "y_pred = perceptron.predict(x_val)\n",
    "acc_perceptron = round(accuracy_score(y_pred, y_val) * 100, 2)\n",
    "print(acc_perceptron)"
   ]
  },
  {
   "cell_type": "code",
   "execution_count": 34,
   "id": "02fa5140",
   "metadata": {
    "execution": {
     "iopub.execute_input": "2022-07-11T03:25:38.435762Z",
     "iopub.status.busy": "2022-07-11T03:25:38.435018Z",
     "iopub.status.idle": "2022-07-11T03:25:38.448661Z",
     "shell.execute_reply": "2022-07-11T03:25:38.447263Z"
    },
    "papermill": {
     "duration": 0.037403,
     "end_time": "2022-07-11T03:25:38.450760",
     "exception": false,
     "start_time": "2022-07-11T03:25:38.413357",
     "status": "completed"
    },
    "tags": []
   },
   "outputs": [
    {
     "name": "stdout",
     "output_type": "stream",
     "text": [
      "81.01\n"
     ]
    }
   ],
   "source": [
    "#Decision Tree\n",
    "from sklearn.tree import DecisionTreeClassifier\n",
    "\n",
    "decisiontree = DecisionTreeClassifier()\n",
    "decisiontree.fit(x_train, y_train)\n",
    "y_pred = decisiontree.predict(x_val)\n",
    "acc_decisiontree = round(accuracy_score(y_pred, y_val) * 100, 2)\n",
    "print(acc_decisiontree)"
   ]
  },
  {
   "cell_type": "code",
   "execution_count": 35,
   "id": "ddb5c96d",
   "metadata": {
    "execution": {
     "iopub.execute_input": "2022-07-11T03:25:38.493702Z",
     "iopub.status.busy": "2022-07-11T03:25:38.492980Z",
     "iopub.status.idle": "2022-07-11T03:25:38.719904Z",
     "shell.execute_reply": "2022-07-11T03:25:38.718732Z"
    },
    "papermill": {
     "duration": 0.251187,
     "end_time": "2022-07-11T03:25:38.722284",
     "exception": false,
     "start_time": "2022-07-11T03:25:38.471097",
     "status": "completed"
    },
    "tags": []
   },
   "outputs": [
    {
     "name": "stdout",
     "output_type": "stream",
     "text": [
      "81.56\n"
     ]
    }
   ],
   "source": [
    "# Random Forest\n",
    "from sklearn.ensemble import RandomForestClassifier\n",
    "\n",
    "randomforest = RandomForestClassifier()\n",
    "randomforest.fit(x_train, y_train)\n",
    "y_pred = randomforest.predict(x_val)\n",
    "acc_randomforest = round(accuracy_score(y_pred, y_val) * 100, 2)\n",
    "print(acc_randomforest)"
   ]
  },
  {
   "cell_type": "code",
   "execution_count": 36,
   "id": "b88a9715",
   "metadata": {
    "execution": {
     "iopub.execute_input": "2022-07-11T03:25:38.765471Z",
     "iopub.status.busy": "2022-07-11T03:25:38.765017Z",
     "iopub.status.idle": "2022-07-11T03:25:38.787283Z",
     "shell.execute_reply": "2022-07-11T03:25:38.785730Z"
    },
    "papermill": {
     "duration": 0.047522,
     "end_time": "2022-07-11T03:25:38.790295",
     "exception": false,
     "start_time": "2022-07-11T03:25:38.742773",
     "status": "completed"
    },
    "tags": []
   },
   "outputs": [
    {
     "name": "stdout",
     "output_type": "stream",
     "text": [
      "77.09\n"
     ]
    }
   ],
   "source": [
    "# KNN or k-Nearest Neighbors\n",
    "from sklearn.neighbors import KNeighborsClassifier\n",
    "\n",
    "knn = KNeighborsClassifier()\n",
    "knn.fit(x_train, y_train)\n",
    "y_pred = knn.predict(x_val)\n",
    "acc_knn = round(accuracy_score(y_pred, y_val) * 100, 2)\n",
    "print(acc_knn)"
   ]
  },
  {
   "cell_type": "code",
   "execution_count": 37,
   "id": "04a9399f",
   "metadata": {
    "execution": {
     "iopub.execute_input": "2022-07-11T03:25:38.834761Z",
     "iopub.status.busy": "2022-07-11T03:25:38.833493Z",
     "iopub.status.idle": "2022-07-11T03:25:38.848004Z",
     "shell.execute_reply": "2022-07-11T03:25:38.847021Z"
    },
    "papermill": {
     "duration": 0.039243,
     "end_time": "2022-07-11T03:25:38.850617",
     "exception": false,
     "start_time": "2022-07-11T03:25:38.811374",
     "status": "completed"
    },
    "tags": []
   },
   "outputs": [
    {
     "name": "stdout",
     "output_type": "stream",
     "text": [
      "67.04\n"
     ]
    }
   ],
   "source": [
    "# Stochastic Gradient Descent\n",
    "from sklearn.linear_model import SGDClassifier\n",
    "\n",
    "sgd = SGDClassifier()\n",
    "sgd.fit(x_train, y_train)\n",
    "y_pred = sgd.predict(x_val)\n",
    "acc_sgd = round(accuracy_score(y_pred, y_val) * 100, 2)\n",
    "print(acc_sgd)"
   ]
  },
  {
   "cell_type": "code",
   "execution_count": 38,
   "id": "047ab26d",
   "metadata": {
    "execution": {
     "iopub.execute_input": "2022-07-11T03:25:38.893748Z",
     "iopub.status.busy": "2022-07-11T03:25:38.893297Z",
     "iopub.status.idle": "2022-07-11T03:25:39.011402Z",
     "shell.execute_reply": "2022-07-11T03:25:39.010190Z"
    },
    "papermill": {
     "duration": 0.142714,
     "end_time": "2022-07-11T03:25:39.013957",
     "exception": false,
     "start_time": "2022-07-11T03:25:38.871243",
     "status": "completed"
    },
    "tags": []
   },
   "outputs": [
    {
     "name": "stdout",
     "output_type": "stream",
     "text": [
      "82.68\n"
     ]
    }
   ],
   "source": [
    "# Gradient Boosting Classifier\n",
    "from sklearn.ensemble import GradientBoostingClassifier\n",
    "\n",
    "gbk = GradientBoostingClassifier()\n",
    "gbk.fit(x_train, y_train)\n",
    "y_pred = gbk.predict(x_val)\n",
    "acc_gbk = round(accuracy_score(y_pred, y_val) * 100, 2)\n",
    "print(acc_gbk)"
   ]
  },
  {
   "cell_type": "code",
   "execution_count": 39,
   "id": "db988216",
   "metadata": {
    "execution": {
     "iopub.execute_input": "2022-07-11T03:25:39.057687Z",
     "iopub.status.busy": "2022-07-11T03:25:39.057313Z",
     "iopub.status.idle": "2022-07-11T03:25:39.072852Z",
     "shell.execute_reply": "2022-07-11T03:25:39.071704Z"
    },
    "papermill": {
     "duration": 0.040889,
     "end_time": "2022-07-11T03:25:39.075398",
     "exception": false,
     "start_time": "2022-07-11T03:25:39.034509",
     "status": "completed"
    },
    "tags": []
   },
   "outputs": [
    {
     "data": {
      "text/html": [
       "<div>\n",
       "<style scoped>\n",
       "    .dataframe tbody tr th:only-of-type {\n",
       "        vertical-align: middle;\n",
       "    }\n",
       "\n",
       "    .dataframe tbody tr th {\n",
       "        vertical-align: top;\n",
       "    }\n",
       "\n",
       "    .dataframe thead th {\n",
       "        text-align: right;\n",
       "    }\n",
       "</style>\n",
       "<table border=\"1\" class=\"dataframe\">\n",
       "  <thead>\n",
       "    <tr style=\"text-align: right;\">\n",
       "      <th></th>\n",
       "      <th>Model</th>\n",
       "      <th>Score</th>\n",
       "    </tr>\n",
       "  </thead>\n",
       "  <tbody>\n",
       "    <tr>\n",
       "      <th>9</th>\n",
       "      <td>Gradient Boosting Classifier</td>\n",
       "      <td>82.68</td>\n",
       "    </tr>\n",
       "    <tr>\n",
       "      <th>3</th>\n",
       "      <td>Random Forest</td>\n",
       "      <td>81.56</td>\n",
       "    </tr>\n",
       "    <tr>\n",
       "      <th>7</th>\n",
       "      <td>Decision Tree</td>\n",
       "      <td>81.01</td>\n",
       "    </tr>\n",
       "    <tr>\n",
       "      <th>5</th>\n",
       "      <td>Perceptron</td>\n",
       "      <td>79.89</td>\n",
       "    </tr>\n",
       "    <tr>\n",
       "      <th>6</th>\n",
       "      <td>Linear SVC</td>\n",
       "      <td>78.77</td>\n",
       "    </tr>\n",
       "    <tr>\n",
       "      <th>2</th>\n",
       "      <td>Logistic Regression</td>\n",
       "      <td>78.21</td>\n",
       "    </tr>\n",
       "    <tr>\n",
       "      <th>4</th>\n",
       "      <td>Naive Bayes</td>\n",
       "      <td>77.65</td>\n",
       "    </tr>\n",
       "    <tr>\n",
       "      <th>1</th>\n",
       "      <td>KNN</td>\n",
       "      <td>77.09</td>\n",
       "    </tr>\n",
       "    <tr>\n",
       "      <th>0</th>\n",
       "      <td>Support Vector Machines</td>\n",
       "      <td>69.27</td>\n",
       "    </tr>\n",
       "    <tr>\n",
       "      <th>8</th>\n",
       "      <td>Stochastic Gradient Descent</td>\n",
       "      <td>67.04</td>\n",
       "    </tr>\n",
       "  </tbody>\n",
       "</table>\n",
       "</div>"
      ],
      "text/plain": [
       "                          Model  Score\n",
       "9  Gradient Boosting Classifier  82.68\n",
       "3                 Random Forest  81.56\n",
       "7                 Decision Tree  81.01\n",
       "5                    Perceptron  79.89\n",
       "6                    Linear SVC  78.77\n",
       "2           Logistic Regression  78.21\n",
       "4                   Naive Bayes  77.65\n",
       "1                           KNN  77.09\n",
       "0       Support Vector Machines  69.27\n",
       "8   Stochastic Gradient Descent  67.04"
      ]
     },
     "execution_count": 39,
     "metadata": {},
     "output_type": "execute_result"
    }
   ],
   "source": [
    "models = pd.DataFrame({\n",
    "    'Model': ['Support Vector Machines', 'KNN', 'Logistic Regression', \n",
    "              'Random Forest', 'Naive Bayes', 'Perceptron', 'Linear SVC', \n",
    "              'Decision Tree', 'Stochastic Gradient Descent', 'Gradient Boosting Classifier'],\n",
    "    'Score': [acc_svc, acc_knn, acc_logreg, \n",
    "              acc_randomforest, acc_gaussian, acc_perceptron,acc_linear_svc, acc_decisiontree,\n",
    "              acc_sgd, acc_gbk]})\n",
    "models.sort_values(by='Score', ascending=False)"
   ]
  },
  {
   "cell_type": "code",
   "execution_count": 40,
   "id": "8a151ea8",
   "metadata": {
    "execution": {
     "iopub.execute_input": "2022-07-11T03:25:39.120192Z",
     "iopub.status.busy": "2022-07-11T03:25:39.119416Z",
     "iopub.status.idle": "2022-07-11T03:25:43.913205Z",
     "shell.execute_reply": "2022-07-11T03:25:43.912150Z"
    },
    "papermill": {
     "duration": 4.819328,
     "end_time": "2022-07-11T03:25:43.915573",
     "exception": false,
     "start_time": "2022-07-11T03:25:39.096245",
     "status": "completed"
    },
    "tags": []
   },
   "outputs": [
    {
     "data": {
      "text/html": [
       "<div>\n",
       "<style scoped>\n",
       "    .dataframe tbody tr th:only-of-type {\n",
       "        vertical-align: middle;\n",
       "    }\n",
       "\n",
       "    .dataframe tbody tr th {\n",
       "        vertical-align: top;\n",
       "    }\n",
       "\n",
       "    .dataframe thead th {\n",
       "        text-align: right;\n",
       "    }\n",
       "</style>\n",
       "<table border=\"1\" class=\"dataframe\">\n",
       "  <thead>\n",
       "    <tr style=\"text-align: right;\">\n",
       "      <th></th>\n",
       "      <th>CV Mean</th>\n",
       "      <th>Std</th>\n",
       "    </tr>\n",
       "  </thead>\n",
       "  <tbody>\n",
       "    <tr>\n",
       "      <th>Support Vector Machines</th>\n",
       "      <td>0.713895</td>\n",
       "      <td>0.050888</td>\n",
       "    </tr>\n",
       "    <tr>\n",
       "      <th>K-Nearst Neighbor</th>\n",
       "      <td>0.793596</td>\n",
       "      <td>0.048108</td>\n",
       "    </tr>\n",
       "    <tr>\n",
       "      <th>Logistic Regression</th>\n",
       "      <td>0.793483</td>\n",
       "      <td>0.033819</td>\n",
       "    </tr>\n",
       "    <tr>\n",
       "      <th>Random Forest</th>\n",
       "      <td>0.794669</td>\n",
       "      <td>0.036540</td>\n",
       "    </tr>\n",
       "    <tr>\n",
       "      <th>Naive Bayes</th>\n",
       "      <td>0.782285</td>\n",
       "      <td>0.032893</td>\n",
       "    </tr>\n",
       "    <tr>\n",
       "      <th>Perceptron</th>\n",
       "      <td>0.693558</td>\n",
       "      <td>0.148294</td>\n",
       "    </tr>\n",
       "    <tr>\n",
       "      <th>Linear SVC</th>\n",
       "      <td>0.773308</td>\n",
       "      <td>0.068968</td>\n",
       "    </tr>\n",
       "    <tr>\n",
       "      <th>Decision Tree</th>\n",
       "      <td>0.785755</td>\n",
       "      <td>0.046138</td>\n",
       "    </tr>\n",
       "    <tr>\n",
       "      <th>Stochastic Gradient Descent</th>\n",
       "      <td>0.723920</td>\n",
       "      <td>0.080372</td>\n",
       "    </tr>\n",
       "    <tr>\n",
       "      <th>Gradient Boosting Classifier</th>\n",
       "      <td>0.839576</td>\n",
       "      <td>0.046816</td>\n",
       "    </tr>\n",
       "  </tbody>\n",
       "</table>\n",
       "</div>"
      ],
      "text/plain": [
       "                               CV Mean       Std\n",
       "Support Vector Machines       0.713895  0.050888\n",
       "K-Nearst Neighbor             0.793596  0.048108\n",
       "Logistic Regression           0.793483  0.033819\n",
       "Random Forest                 0.794669  0.036540\n",
       "Naive Bayes                   0.782285  0.032893\n",
       "Perceptron                    0.693558  0.148294\n",
       "Linear SVC                    0.773308  0.068968\n",
       "Decision Tree                 0.785755  0.046138\n",
       "Stochastic Gradient Descent   0.723920  0.080372\n",
       "Gradient Boosting Classifier  0.839576  0.046816"
      ]
     },
     "execution_count": 40,
     "metadata": {},
     "output_type": "execute_result"
    }
   ],
   "source": [
    "from sklearn.model_selection import KFold #for K-fold cross validation\n",
    "from sklearn.model_selection import cross_val_score #score evaluation\n",
    "from sklearn.model_selection import cross_val_predict #prediction\n",
    "from xgboost import XGBClassifier\n",
    "\n",
    "X = train.drop(['Survived', 'PassengerId'], axis=1)\n",
    "Y = train[\"Survived\"]\n",
    "\n",
    "kfold = KFold(n_splits=10) # k=10, split the data into 10 equal parts\n",
    "xyz=[]\n",
    "accuracy=[]\n",
    "std=[]\n",
    "classifiers=['Support Vector Machines', 'K-Nearst Neighbor', 'Logistic Regression', \n",
    "              'Random Forest', 'Naive Bayes', 'Perceptron', 'Linear SVC', \n",
    "              'Decision Tree', 'Stochastic Gradient Descent', 'Gradient Boosting Classifier']\n",
    "models=[SVC(), KNeighborsClassifier(), LogisticRegression(), RandomForestClassifier(), GaussianNB(), \n",
    "        Perceptron(), LinearSVC(), DecisionTreeClassifier(), SGDClassifier(), \n",
    "        GradientBoostingClassifier()]\n",
    "for i in models:\n",
    "    model = i\n",
    "    cv_result = cross_val_score(model,X,Y, cv = kfold,scoring = \"accuracy\")\n",
    "    xyz.append(cv_result.mean())\n",
    "    std.append(cv_result.std())\n",
    "    accuracy.append(cv_result)\n",
    "new_models_dataframe2=pd.DataFrame({'CV Mean':xyz,'Std':std},index=classifiers)       \n",
    "new_models_dataframe2"
   ]
  },
  {
   "cell_type": "markdown",
   "id": "2ea43668",
   "metadata": {
    "papermill": {
     "duration": 0.020412,
     "end_time": "2022-07-11T03:25:43.958255",
     "exception": false,
     "start_time": "2022-07-11T03:25:43.937843",
     "status": "completed"
    },
    "tags": []
   },
   "source": [
    "# 5. Modeling Results ⌛\n",
    "\n",
    "We've run the data through several models and we can see that Gradient Boosting Classifier was the best result at ~84% accuracy. "
   ]
  },
  {
   "cell_type": "code",
   "execution_count": 41,
   "id": "2f0f4a92",
   "metadata": {
    "execution": {
     "iopub.execute_input": "2022-07-11T03:25:44.002915Z",
     "iopub.status.busy": "2022-07-11T03:25:44.002522Z",
     "iopub.status.idle": "2022-07-11T03:25:44.016476Z",
     "shell.execute_reply": "2022-07-11T03:25:44.015369Z"
    },
    "papermill": {
     "duration": 0.03951,
     "end_time": "2022-07-11T03:25:44.018847",
     "exception": false,
     "start_time": "2022-07-11T03:25:43.979337",
     "status": "completed"
    },
    "tags": []
   },
   "outputs": [
    {
     "data": {
      "text/html": [
       "<div>\n",
       "<style scoped>\n",
       "    .dataframe tbody tr th:only-of-type {\n",
       "        vertical-align: middle;\n",
       "    }\n",
       "\n",
       "    .dataframe tbody tr th {\n",
       "        vertical-align: top;\n",
       "    }\n",
       "\n",
       "    .dataframe thead th {\n",
       "        text-align: right;\n",
       "    }\n",
       "</style>\n",
       "<table border=\"1\" class=\"dataframe\">\n",
       "  <thead>\n",
       "    <tr style=\"text-align: right;\">\n",
       "      <th></th>\n",
       "      <th>PassengerId</th>\n",
       "      <th>Pclass</th>\n",
       "      <th>Sex</th>\n",
       "      <th>Age</th>\n",
       "      <th>SibSp</th>\n",
       "      <th>Parch</th>\n",
       "      <th>Embarked</th>\n",
       "      <th>Title</th>\n",
       "      <th>FareBand</th>\n",
       "    </tr>\n",
       "  </thead>\n",
       "  <tbody>\n",
       "    <tr>\n",
       "      <th>0</th>\n",
       "      <td>892</td>\n",
       "      <td>3</td>\n",
       "      <td>0</td>\n",
       "      <td>34.5</td>\n",
       "      <td>0</td>\n",
       "      <td>0</td>\n",
       "      <td>3</td>\n",
       "      <td>1</td>\n",
       "      <td>1</td>\n",
       "    </tr>\n",
       "    <tr>\n",
       "      <th>1</th>\n",
       "      <td>893</td>\n",
       "      <td>3</td>\n",
       "      <td>1</td>\n",
       "      <td>47.0</td>\n",
       "      <td>1</td>\n",
       "      <td>0</td>\n",
       "      <td>1</td>\n",
       "      <td>3</td>\n",
       "      <td>1</td>\n",
       "    </tr>\n",
       "    <tr>\n",
       "      <th>2</th>\n",
       "      <td>894</td>\n",
       "      <td>2</td>\n",
       "      <td>0</td>\n",
       "      <td>62.0</td>\n",
       "      <td>0</td>\n",
       "      <td>0</td>\n",
       "      <td>3</td>\n",
       "      <td>1</td>\n",
       "      <td>2</td>\n",
       "    </tr>\n",
       "    <tr>\n",
       "      <th>3</th>\n",
       "      <td>895</td>\n",
       "      <td>3</td>\n",
       "      <td>0</td>\n",
       "      <td>27.0</td>\n",
       "      <td>0</td>\n",
       "      <td>0</td>\n",
       "      <td>1</td>\n",
       "      <td>1</td>\n",
       "      <td>2</td>\n",
       "    </tr>\n",
       "    <tr>\n",
       "      <th>4</th>\n",
       "      <td>896</td>\n",
       "      <td>3</td>\n",
       "      <td>1</td>\n",
       "      <td>22.0</td>\n",
       "      <td>1</td>\n",
       "      <td>1</td>\n",
       "      <td>1</td>\n",
       "      <td>3</td>\n",
       "      <td>2</td>\n",
       "    </tr>\n",
       "  </tbody>\n",
       "</table>\n",
       "</div>"
      ],
      "text/plain": [
       "   PassengerId  Pclass  Sex   Age  SibSp  Parch  Embarked  Title FareBand\n",
       "0          892       3    0  34.5      0      0         3      1        1\n",
       "1          893       3    1  47.0      1      0         1      3        1\n",
       "2          894       2    0  62.0      0      0         3      1        2\n",
       "3          895       3    0  27.0      0      0         1      1        2\n",
       "4          896       3    1  22.0      1      1         1      3        2"
      ]
     },
     "execution_count": 41,
     "metadata": {},
     "output_type": "execute_result"
    }
   ],
   "source": [
    "test.head()"
   ]
  },
  {
   "cell_type": "code",
   "execution_count": 42,
   "id": "7e347d6e",
   "metadata": {
    "execution": {
     "iopub.execute_input": "2022-07-11T03:25:44.063726Z",
     "iopub.status.busy": "2022-07-11T03:25:44.063316Z",
     "iopub.status.idle": "2022-07-11T03:25:44.079173Z",
     "shell.execute_reply": "2022-07-11T03:25:44.077915Z"
    },
    "papermill": {
     "duration": 0.041031,
     "end_time": "2022-07-11T03:25:44.081602",
     "exception": false,
     "start_time": "2022-07-11T03:25:44.040571",
     "status": "completed"
    },
    "tags": []
   },
   "outputs": [
    {
     "data": {
      "text/html": [
       "<div>\n",
       "<style scoped>\n",
       "    .dataframe tbody tr th:only-of-type {\n",
       "        vertical-align: middle;\n",
       "    }\n",
       "\n",
       "    .dataframe tbody tr th {\n",
       "        vertical-align: top;\n",
       "    }\n",
       "\n",
       "    .dataframe thead th {\n",
       "        text-align: right;\n",
       "    }\n",
       "</style>\n",
       "<table border=\"1\" class=\"dataframe\">\n",
       "  <thead>\n",
       "    <tr style=\"text-align: right;\">\n",
       "      <th></th>\n",
       "      <th>PassengerId</th>\n",
       "      <th>Survived</th>\n",
       "      <th>Pclass</th>\n",
       "      <th>Sex</th>\n",
       "      <th>Age</th>\n",
       "      <th>SibSp</th>\n",
       "      <th>Parch</th>\n",
       "      <th>Embarked</th>\n",
       "      <th>Title</th>\n",
       "      <th>FareBand</th>\n",
       "    </tr>\n",
       "  </thead>\n",
       "  <tbody>\n",
       "    <tr>\n",
       "      <th>0</th>\n",
       "      <td>1</td>\n",
       "      <td>0</td>\n",
       "      <td>3</td>\n",
       "      <td>0</td>\n",
       "      <td>22.0</td>\n",
       "      <td>1</td>\n",
       "      <td>0</td>\n",
       "      <td>1</td>\n",
       "      <td>1.0</td>\n",
       "      <td>1</td>\n",
       "    </tr>\n",
       "    <tr>\n",
       "      <th>1</th>\n",
       "      <td>2</td>\n",
       "      <td>1</td>\n",
       "      <td>1</td>\n",
       "      <td>1</td>\n",
       "      <td>38.0</td>\n",
       "      <td>1</td>\n",
       "      <td>0</td>\n",
       "      <td>2</td>\n",
       "      <td>3.0</td>\n",
       "      <td>4</td>\n",
       "    </tr>\n",
       "    <tr>\n",
       "      <th>2</th>\n",
       "      <td>3</td>\n",
       "      <td>1</td>\n",
       "      <td>3</td>\n",
       "      <td>1</td>\n",
       "      <td>26.0</td>\n",
       "      <td>0</td>\n",
       "      <td>0</td>\n",
       "      <td>1</td>\n",
       "      <td>2.0</td>\n",
       "      <td>2</td>\n",
       "    </tr>\n",
       "    <tr>\n",
       "      <th>3</th>\n",
       "      <td>4</td>\n",
       "      <td>1</td>\n",
       "      <td>1</td>\n",
       "      <td>1</td>\n",
       "      <td>35.0</td>\n",
       "      <td>1</td>\n",
       "      <td>0</td>\n",
       "      <td>1</td>\n",
       "      <td>3.0</td>\n",
       "      <td>4</td>\n",
       "    </tr>\n",
       "    <tr>\n",
       "      <th>4</th>\n",
       "      <td>5</td>\n",
       "      <td>0</td>\n",
       "      <td>3</td>\n",
       "      <td>0</td>\n",
       "      <td>35.0</td>\n",
       "      <td>0</td>\n",
       "      <td>0</td>\n",
       "      <td>1</td>\n",
       "      <td>1.0</td>\n",
       "      <td>2</td>\n",
       "    </tr>\n",
       "  </tbody>\n",
       "</table>\n",
       "</div>"
      ],
      "text/plain": [
       "   PassengerId  Survived  Pclass  Sex   Age  SibSp  Parch  Embarked  Title  \\\n",
       "0            1         0       3    0  22.0      1      0         1    1.0   \n",
       "1            2         1       1    1  38.0      1      0         2    3.0   \n",
       "2            3         1       3    1  26.0      0      0         1    2.0   \n",
       "3            4         1       1    1  35.0      1      0         1    3.0   \n",
       "4            5         0       3    0  35.0      0      0         1    1.0   \n",
       "\n",
       "  FareBand  \n",
       "0        1  \n",
       "1        4  \n",
       "2        2  \n",
       "3        4  \n",
       "4        2  "
      ]
     },
     "execution_count": 42,
     "metadata": {},
     "output_type": "execute_result"
    }
   ],
   "source": [
    "train.head()"
   ]
  },
  {
   "cell_type": "code",
   "execution_count": 43,
   "id": "bfa26769",
   "metadata": {
    "execution": {
     "iopub.execute_input": "2022-07-11T03:25:44.129150Z",
     "iopub.status.busy": "2022-07-11T03:25:44.127757Z",
     "iopub.status.idle": "2022-07-11T03:25:44.146904Z",
     "shell.execute_reply": "2022-07-11T03:25:44.145505Z"
    },
    "papermill": {
     "duration": 0.045727,
     "end_time": "2022-07-11T03:25:44.149425",
     "exception": false,
     "start_time": "2022-07-11T03:25:44.103698",
     "status": "completed"
    },
    "tags": []
   },
   "outputs": [
    {
     "name": "stdout",
     "output_type": "stream",
     "text": [
      "The submission was successfully saved!\n"
     ]
    }
   ],
   "source": [
    "# Set ids as PassengerId and predict survival \n",
    "ids = test['PassengerId']\n",
    "predictions = gbk.predict(test.drop('PassengerId', axis=1))\n",
    "\n",
    "# Set the output as a dataframe and convert to csv file named submission.csv\n",
    "output = pd.DataFrame({ 'PassengerId' : ids, 'Survived': predictions })\n",
    "output.to_csv('submission.csv', index=False)\n",
    "print(\"The submission was successfully saved!\")"
   ]
  },
  {
   "cell_type": "code",
   "execution_count": 44,
   "id": "e4cca999",
   "metadata": {
    "execution": {
     "iopub.execute_input": "2022-07-11T03:25:44.210771Z",
     "iopub.status.busy": "2022-07-11T03:25:44.209519Z",
     "iopub.status.idle": "2022-07-11T03:25:44.226032Z",
     "shell.execute_reply": "2022-07-11T03:25:44.225083Z"
    },
    "papermill": {
     "duration": 0.047904,
     "end_time": "2022-07-11T03:25:44.228114",
     "exception": false,
     "start_time": "2022-07-11T03:25:44.180210",
     "status": "completed"
    },
    "tags": []
   },
   "outputs": [
    {
     "data": {
      "text/html": [
       "<div>\n",
       "<style scoped>\n",
       "    .dataframe tbody tr th:only-of-type {\n",
       "        vertical-align: middle;\n",
       "    }\n",
       "\n",
       "    .dataframe tbody tr th {\n",
       "        vertical-align: top;\n",
       "    }\n",
       "\n",
       "    .dataframe thead th {\n",
       "        text-align: right;\n",
       "    }\n",
       "</style>\n",
       "<table border=\"1\" class=\"dataframe\">\n",
       "  <thead>\n",
       "    <tr style=\"text-align: right;\">\n",
       "      <th></th>\n",
       "      <th>PassengerId</th>\n",
       "      <th>Pclass</th>\n",
       "      <th>Sex</th>\n",
       "      <th>Age</th>\n",
       "      <th>SibSp</th>\n",
       "      <th>Parch</th>\n",
       "      <th>Embarked</th>\n",
       "      <th>Title</th>\n",
       "      <th>FareBand</th>\n",
       "    </tr>\n",
       "  </thead>\n",
       "  <tbody>\n",
       "    <tr>\n",
       "      <th>0</th>\n",
       "      <td>892</td>\n",
       "      <td>3</td>\n",
       "      <td>0</td>\n",
       "      <td>34.5</td>\n",
       "      <td>0</td>\n",
       "      <td>0</td>\n",
       "      <td>3</td>\n",
       "      <td>1</td>\n",
       "      <td>1</td>\n",
       "    </tr>\n",
       "    <tr>\n",
       "      <th>1</th>\n",
       "      <td>893</td>\n",
       "      <td>3</td>\n",
       "      <td>1</td>\n",
       "      <td>47.0</td>\n",
       "      <td>1</td>\n",
       "      <td>0</td>\n",
       "      <td>1</td>\n",
       "      <td>3</td>\n",
       "      <td>1</td>\n",
       "    </tr>\n",
       "    <tr>\n",
       "      <th>2</th>\n",
       "      <td>894</td>\n",
       "      <td>2</td>\n",
       "      <td>0</td>\n",
       "      <td>62.0</td>\n",
       "      <td>0</td>\n",
       "      <td>0</td>\n",
       "      <td>3</td>\n",
       "      <td>1</td>\n",
       "      <td>2</td>\n",
       "    </tr>\n",
       "    <tr>\n",
       "      <th>3</th>\n",
       "      <td>895</td>\n",
       "      <td>3</td>\n",
       "      <td>0</td>\n",
       "      <td>27.0</td>\n",
       "      <td>0</td>\n",
       "      <td>0</td>\n",
       "      <td>1</td>\n",
       "      <td>1</td>\n",
       "      <td>2</td>\n",
       "    </tr>\n",
       "    <tr>\n",
       "      <th>4</th>\n",
       "      <td>896</td>\n",
       "      <td>3</td>\n",
       "      <td>1</td>\n",
       "      <td>22.0</td>\n",
       "      <td>1</td>\n",
       "      <td>1</td>\n",
       "      <td>1</td>\n",
       "      <td>3</td>\n",
       "      <td>2</td>\n",
       "    </tr>\n",
       "  </tbody>\n",
       "</table>\n",
       "</div>"
      ],
      "text/plain": [
       "   PassengerId  Pclass  Sex   Age  SibSp  Parch  Embarked  Title FareBand\n",
       "0          892       3    0  34.5      0      0         3      1        1\n",
       "1          893       3    1  47.0      1      0         1      3        1\n",
       "2          894       2    0  62.0      0      0         3      1        2\n",
       "3          895       3    0  27.0      0      0         1      1        2\n",
       "4          896       3    1  22.0      1      1         1      3        2"
      ]
     },
     "execution_count": 44,
     "metadata": {},
     "output_type": "execute_result"
    }
   ],
   "source": [
    "test.head()"
   ]
  },
  {
   "cell_type": "code",
   "execution_count": 45,
   "id": "d30d928f",
   "metadata": {
    "execution": {
     "iopub.execute_input": "2022-07-11T03:25:44.275040Z",
     "iopub.status.busy": "2022-07-11T03:25:44.274107Z",
     "iopub.status.idle": "2022-07-11T03:25:44.283629Z",
     "shell.execute_reply": "2022-07-11T03:25:44.282743Z"
    },
    "papermill": {
     "duration": 0.034878,
     "end_time": "2022-07-11T03:25:44.285532",
     "exception": false,
     "start_time": "2022-07-11T03:25:44.250654",
     "status": "completed"
    },
    "tags": []
   },
   "outputs": [
    {
     "data": {
      "text/html": [
       "<div>\n",
       "<style scoped>\n",
       "    .dataframe tbody tr th:only-of-type {\n",
       "        vertical-align: middle;\n",
       "    }\n",
       "\n",
       "    .dataframe tbody tr th {\n",
       "        vertical-align: top;\n",
       "    }\n",
       "\n",
       "    .dataframe thead th {\n",
       "        text-align: right;\n",
       "    }\n",
       "</style>\n",
       "<table border=\"1\" class=\"dataframe\">\n",
       "  <thead>\n",
       "    <tr style=\"text-align: right;\">\n",
       "      <th></th>\n",
       "      <th>PassengerId</th>\n",
       "      <th>Survived</th>\n",
       "    </tr>\n",
       "  </thead>\n",
       "  <tbody>\n",
       "    <tr>\n",
       "      <th>0</th>\n",
       "      <td>892</td>\n",
       "      <td>0</td>\n",
       "    </tr>\n",
       "    <tr>\n",
       "      <th>1</th>\n",
       "      <td>893</td>\n",
       "      <td>0</td>\n",
       "    </tr>\n",
       "    <tr>\n",
       "      <th>2</th>\n",
       "      <td>894</td>\n",
       "      <td>0</td>\n",
       "    </tr>\n",
       "    <tr>\n",
       "      <th>3</th>\n",
       "      <td>895</td>\n",
       "      <td>0</td>\n",
       "    </tr>\n",
       "    <tr>\n",
       "      <th>4</th>\n",
       "      <td>896</td>\n",
       "      <td>1</td>\n",
       "    </tr>\n",
       "  </tbody>\n",
       "</table>\n",
       "</div>"
      ],
      "text/plain": [
       "   PassengerId  Survived\n",
       "0          892         0\n",
       "1          893         0\n",
       "2          894         0\n",
       "3          895         0\n",
       "4          896         1"
      ]
     },
     "execution_count": 45,
     "metadata": {},
     "output_type": "execute_result"
    }
   ],
   "source": [
    "output.head()"
   ]
  },
  {
   "cell_type": "markdown",
   "id": "3b11060c",
   "metadata": {
    "papermill": {
     "duration": 0.022184,
     "end_time": "2022-07-11T03:25:44.330298",
     "exception": false,
     "start_time": "2022-07-11T03:25:44.308114",
     "status": "completed"
    },
    "tags": []
   },
   "source": [
    "# 6. Submit the Data 📤\n",
    "\n",
    "We have finished up by ensuring that our output matches the format we need to submit the data for this competition! "
   ]
  },
  {
   "cell_type": "markdown",
   "id": "5d609efa",
   "metadata": {
    "papermill": {
     "duration": 0.021867,
     "end_time": "2022-07-11T03:25:44.374364",
     "exception": false,
     "start_time": "2022-07-11T03:25:44.352497",
     "status": "completed"
    },
    "tags": []
   },
   "source": [
    "# 7. How Can We Improve? 📈\n",
    "\n",
    "Now that we have submitted out data, what could we have done to better tune the hyperparameters? Leave comments on this submission with your ideas!"
   ]
  },
  {
   "cell_type": "code",
   "execution_count": null,
   "id": "698115a1",
   "metadata": {
    "papermill": {
     "duration": 0.02224,
     "end_time": "2022-07-11T03:25:44.418931",
     "exception": false,
     "start_time": "2022-07-11T03:25:44.396691",
     "status": "completed"
    },
    "tags": []
   },
   "outputs": [],
   "source": []
  }
 ],
 "metadata": {
  "kernelspec": {
   "display_name": "Python 3",
   "language": "python",
   "name": "python3"
  },
  "language_info": {
   "codemirror_mode": {
    "name": "ipython",
    "version": 3
   },
   "file_extension": ".py",
   "mimetype": "text/x-python",
   "name": "python",
   "nbconvert_exporter": "python",
   "pygments_lexer": "ipython3",
   "version": "3.7.12"
  },
  "papermill": {
   "default_parameters": {},
   "duration": 22.351998,
   "end_time": "2022-07-11T03:25:45.263876",
   "environment_variables": {},
   "exception": null,
   "input_path": "__notebook__.ipynb",
   "output_path": "__notebook__.ipynb",
   "parameters": {},
   "start_time": "2022-07-11T03:25:22.911878",
   "version": "2.3.4"
  }
 },
 "nbformat": 4,
 "nbformat_minor": 5
}
